{
 "cells": [
  {
   "cell_type": "code",
   "execution_count": 5,
   "id": "468b1d36",
   "metadata": {},
   "outputs": [
    {
     "name": "stdout",
     "output_type": "stream",
     "text": [
      "\n",
      "    Korpora 는 다른 분들이 연구 목적으로 공유해주신 말뭉치들을\n",
      "    손쉽게 다운로드, 사용할 수 있는 기능만을 제공합니다.\n",
      "\n",
      "    말뭉치들을 공유해 주신 분들에게 감사드리며, 각 말뭉치 별 설명과 라이센스를 공유 드립니다.\n",
      "    해당 말뭉치에 대해 자세히 알고 싶으신 분은 아래의 description 을 참고,\n",
      "    해당 말뭉치를 연구/상용의 목적으로 이용하실 때에는 아래의 라이센스를 참고해 주시기 바랍니다.\n",
      "\n",
      "    # Description\n",
      "    Author : e9t@github\n",
      "    Repository : https://github.com/e9t/nsmc\n",
      "    References : www.lucypark.kr/docs/2015-pyconkr/#39\n",
      "\n",
      "    Naver sentiment movie corpus v1.0\n",
      "    This is a movie review dataset in the Korean language.\n",
      "    Reviews were scraped from Naver Movies.\n",
      "\n",
      "    The dataset construction is based on the method noted in\n",
      "    [Large movie review dataset][^1] from Maas et al., 2011.\n",
      "\n",
      "    [^1]: http://ai.stanford.edu/~amaas/data/sentiment/\n",
      "\n",
      "    # License\n",
      "    CC0 1.0 Universal (CC0 1.0) Public Domain Dedication\n",
      "    Details in https://creativecommons.org/publicdomain/zero/1.0/\n",
      "\n"
     ]
    },
    {
     "name": "stderr",
     "output_type": "stream",
     "text": [
      "[nsmc] download ratings_train.txt: 14.6MB [00:00, 38.1MB/s]                                                            \n",
      "[nsmc] download ratings_test.txt: 4.90MB [00:00, 21.7MB/s]                                                             \n"
     ]
    }
   ],
   "source": [
    "from Korpora import Korpora\n",
    "nsmc = Korpora.load('nsmc', force_download=True)"
   ]
  },
  {
   "cell_type": "code",
   "execution_count": 9,
   "id": "fa5beee8",
   "metadata": {},
   "outputs": [
    {
     "data": {
      "text/plain": [
       "<bound method KorpusData.get_all_texts of NSMC.train: size=150000\n",
       "  - NSMC.train.texts : list[str]\n",
       "  - NSMC.train.labels : list[int]\n",
       ">"
      ]
     },
     "execution_count": 9,
     "metadata": {},
     "output_type": "execute_result"
    }
   ],
   "source": [
    "nsmc.train.get_all_texts"
   ]
  },
  {
   "cell_type": "code",
   "execution_count": 14,
   "id": "96229ece",
   "metadata": {},
   "outputs": [],
   "source": [
    "import os\n",
    "def write_lines(path, lines):\n",
    "    with open(path, 'w', encoding='utf-8') as f:\n",
    "        for line in lines:\n",
    "            f.write(f'{line}\\n')\n",
    "write_lines('content/train.txt', nsmc.train.get_all_texts())\n",
    "write_lines('content/test.txt', nsmc.test.get_all_texts())"
   ]
  },
  {
   "cell_type": "code",
   "execution_count": 15,
   "id": "ef536a8f",
   "metadata": {},
   "outputs": [],
   "source": [
    "os.makedirs('bbpe', exist_ok=True)"
   ]
  },
  {
   "cell_type": "code",
   "execution_count": 16,
   "id": "cb5c3bce",
   "metadata": {},
   "outputs": [
    {
     "data": {
      "text/plain": [
       "['bbpe\\\\vocab.json', 'bbpe\\\\merges.txt']"
      ]
     },
     "execution_count": 16,
     "metadata": {},
     "output_type": "execute_result"
    }
   ],
   "source": [
    "from tokenizers import ByteLevelBPETokenizer\n",
    "bytebpe_tokenizer = ByteLevelBPETokenizer()\n",
    "bytebpe_tokenizer.train(files=['content/train.txt', 'content/test.txt'], vocab_size=10000, special_tokens=['[PAD]'])\n",
    "bytebpe_tokenizer.save_model('bbpe')"
   ]
  },
  {
   "cell_type": "code",
   "execution_count": 17,
   "id": "d8a3b5de",
   "metadata": {},
   "outputs": [],
   "source": [
    "os.makedirs('wordpiece', exist_ok=Trueb)"
   ]
  },
  {
   "cell_type": "code",
   "execution_count": 18,
   "id": "0a414906",
   "metadata": {},
   "outputs": [
    {
     "data": {
      "text/plain": [
       "['wordpiece\\\\vocab.json', 'wordpiece\\\\merges.txt']"
      ]
     },
     "execution_count": 18,
     "metadata": {},
     "output_type": "execute_result"
    }
   ],
   "source": [
    "from tokenizers import BertWordPieceTokenizer\n",
    "word\n",
    "\n",
    "bytebpe_tokenizer = ByteLevelBPETokenizer(lowercase=False)\n",
    "bytebpe_tokenizer.train(files=['content/train.txt', 'content/test.txt'], vocab_size=10000)\n",
    "bytebpe_tokenizer.save_model('wordpiece')"
   ]
  }
 ],
 "metadata": {
  "kernelspec": {
   "display_name": "Python 3",
   "language": "python",
   "name": "python3"
  },
  "language_info": {
   "codemirror_mode": {
    "name": "ipython",
    "version": 3
   },
   "file_extension": ".py",
   "mimetype": "text/x-python",
   "name": "python",
   "nbconvert_exporter": "python",
   "pygments_lexer": "ipython3",
   "version": "3.6.13"
  }
 },
 "nbformat": 4,
 "nbformat_minor": 5
}
