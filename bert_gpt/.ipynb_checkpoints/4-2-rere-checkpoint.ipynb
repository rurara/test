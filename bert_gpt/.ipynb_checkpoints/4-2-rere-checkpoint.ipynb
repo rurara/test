{
 "cells": [
  {
   "cell_type": "code",
   "execution_count": null,
   "id": "f6b982d6-d610-4398-ba76-8fa24e706a4b",
   "metadata": {},
   "outputs": [],
   "source": [
    "import torch\n",
    "#https://zorba-blog.tistory.com/22\n",
    "#$ pip install torchmetrics\n",
    "torch.cuda.is_available() == True"
   ]
  }
 ],
 "metadata": {
  "kernelspec": {
   "display_name": "Python 3 (ipykernel)",
   "language": "python",
   "name": "python3"
  },
  "language_info": {
   "codemirror_mode": {
    "name": "ipython",
    "version": 3
   },
   "file_extension": ".py",
   "mimetype": "text/x-python",
   "name": "python",
   "nbconvert_exporter": "python",
   "pygments_lexer": "ipython3",
   "version": "3.9.17"
  }
 },
 "nbformat": 4,
 "nbformat_minor": 5
}
