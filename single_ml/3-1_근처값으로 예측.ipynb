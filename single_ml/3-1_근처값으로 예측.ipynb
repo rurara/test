{
 "cells": [
  {
   "cell_type": "code",
   "execution_count": 9,
   "id": "a8ff655f",
   "metadata": {},
   "outputs": [],
   "source": [
    "#Ch.03(03-1) 2번 문제 출력 그래프 인증하기\t\n",
    "#114-129\n",
    "#모델 파라미터에 대해 설명하기\n",
    "#->검색 값의 주변 이웃값(n)을 찾아 평균값과 비교하여 유사도 검색\n",
    "#python 3.6\n",
    "#%config Completer.use_jedi = False\n"
   ]
  },
  {
   "cell_type": "code",
   "execution_count": 7,
   "id": "e860c02f",
   "metadata": {
    "scrolled": false
   },
   "outputs": [],
   "source": [
    "#!pip install numpy\n",
    "#!pip install matplotlib\n",
    "#!pip install scikit-learn"
   ]
  },
  {
   "cell_type": "code",
   "execution_count": 2,
   "id": "65f3ce6b",
   "metadata": {},
   "outputs": [],
   "source": [
    "import numpy as np"
   ]
  },
  {
   "cell_type": "code",
   "execution_count": 5,
   "id": "6e48e5cf",
   "metadata": {},
   "outputs": [],
   "source": [
    "perch_length = np.array(\n",
    "    [8.4, 13.7, 15.0, 16.2, 17.4, 18.0, 18.7, 19.0, 19.6, 20.0,\n",
    "     21.0, 21.0, 21.0, 21.3, 22.0, 22.0, 22.0, 22.0, 22.0, 22.5,\n",
    "     22.5, 22.7, 23.0, 23.5, 24.0, 24.0, 24.6, 25.0, 25.6, 26.5,\n",
    "     27.3, 27.5, 27.5, 27.5, 28.0, 28.7, 30.0, 32.8, 34.5, 35.0,\n",
    "     36.5, 36.0, 37.0, 37.0, 39.0, 39.0, 39.0, 40.0, 40.0, 40.0,\n",
    "     40.0, 42.0, 43.0, 43.0, 43.5, 44.0]\n",
    "     )\n",
    "perch_weight = np.array(\n",
    "    [5.9, 32.0, 40.0, 51.5, 70.0, 100.0, 78.0, 80.0, 85.0, 85.0,\n",
    "     110.0, 115.0, 125.0, 130.0, 120.0, 120.0, 130.0, 135.0, 110.0,\n",
    "     130.0, 150.0, 145.0, 150.0, 170.0, 225.0, 145.0, 188.0, 180.0,\n",
    "     197.0, 218.0, 300.0, 260.0, 265.0, 250.0, 250.0, 300.0, 320.0,\n",
    "     514.0, 556.0, 840.0, 685.0, 700.0, 700.0, 690.0, 900.0, 650.0,\n",
    "     820.0, 850.0, 900.0, 1015.0, 820.0, 1100.0, 1000.0, 1100.0,\n",
    "     1000.0, 1000.0]\n",
    "     )"
   ]
  },
  {
   "cell_type": "code",
   "execution_count": 13,
   "id": "3a0621f9",
   "metadata": {},
   "outputs": [
    {
     "data": {
      "text/plain": "<Figure size 432x288 with 1 Axes>",
      "image/png": "[encoded data removed]"
     },
     "metadata": {
      "needs_background": "light"
     },
     "output_type": "display_data"
    }
   ],
   "source": [
    "import matplotlib.pyplot as plt\n",
    "plt.scatter(perch_length, perch_weight)\n",
    "plt.xlabel('length')\n",
    "plt.ylabel('weght')\n",
    "plt.show()"
   ]
  },
  {
   "cell_type": "code",
   "execution_count": 23,
   "id": "262471fc",
   "metadata": {},
   "outputs": [],
   "source": [
    "from sklearn.model_selection import train_test_split"
   ]
  },
  {
   "cell_type": "code",
   "execution_count": 30,
   "id": "c3bd63eb",
   "metadata": {},
   "outputs": [],
   "source": [
    "trainInput, testInput, trainTarget, testTarget = train_test_split(perch_length, perch_weight, random_state=42)"
   ]
  },
  {
   "cell_type": "code",
   "execution_count": 6,
   "id": "fbf35f97",
   "metadata": {},
   "outputs": [
    {
     "name": "stdout",
     "output_type": "stream",
     "text": [
      "[1 2 3 4]\n",
      "(4,)\n"
     ]
    }
   ],
   "source": [
    "test_array = np.array([1,2,3,4])\n",
    "print(test_array)\n",
    "print(test_array.shape)"
   ]
  },
  {
   "cell_type": "code",
   "execution_count": 4,
   "id": "6e2b2c14",
   "metadata": {},
   "outputs": [
    {
     "ename": "NameError",
     "evalue": "name 'test_array' is not defined",
     "output_type": "error",
     "traceback": [
      "\u001B[1;31m---------------------------------------------------------------------------\u001B[0m",
      "\u001B[1;31mNameError\u001B[0m                                 Traceback (most recent call last)",
      "\u001B[1;32m<ipython-input-4-6eb66710487c>\u001B[0m in \u001B[0;36m<module>\u001B[1;34m\u001B[0m\n\u001B[1;32m----> 1\u001B[1;33m \u001B[0mtestArray\u001B[0m \u001B[1;33m=\u001B[0m \u001B[0mtest_array\u001B[0m\u001B[1;33m.\u001B[0m\u001B[0mreshape\u001B[0m\u001B[1;33m(\u001B[0m\u001B[1;36m2\u001B[0m\u001B[1;33m,\u001B[0m\u001B[1;36m2\u001B[0m\u001B[1;33m)\u001B[0m\u001B[1;33m\u001B[0m\u001B[1;33m\u001B[0m\u001B[0m\n\u001B[0m\u001B[0;32m      2\u001B[0m \u001B[0mprint\u001B[0m\u001B[1;33m(\u001B[0m\u001B[0mtestArray\u001B[0m\u001B[1;33m)\u001B[0m\u001B[1;33m\u001B[0m\u001B[1;33m\u001B[0m\u001B[0m\n\u001B[0;32m      3\u001B[0m \u001B[0mprint\u001B[0m\u001B[1;33m(\u001B[0m\u001B[0mtestArray\u001B[0m\u001B[1;33m.\u001B[0m\u001B[0mshape\u001B[0m\u001B[1;33m)\u001B[0m\u001B[1;33m\u001B[0m\u001B[1;33m\u001B[0m\u001B[0m\n\u001B[0;32m      4\u001B[0m \u001B[1;33m\u001B[0m\u001B[0m\n",
      "\u001B[1;31mNameError\u001B[0m: name 'test_array' is not defined"
     ]
    }
   ],
   "source": [
    "testArray = test_array.reshape(2,2)\n",
    "print(testArray)\n",
    "print(testArray.shape)"
   ]
  },
  {
   "cell_type": "code",
   "execution_count": 34,
   "id": "8894af9b",
   "metadata": {},
   "outputs": [
    {
     "name": "stdout",
     "output_type": "stream",
     "text": [
      "[30.  27.5 25.6 24.  21.  24.  39.  27.5 37.  40.  40.  23.  22.5 16.2\n",
      " 27.5 39.  22.7 35.  43.  22.  25.  22.  22.5 19.6 21.   8.4 15.  39.\n",
      " 34.5 26.5 40.  43.5 23.5 44.  18.  17.4 22.  43.  20.  36.5 28.7 13.7] [[19.6]\n",
      " [22. ]\n",
      " [18.7]\n",
      " [17.4]\n",
      " [36. ]\n",
      " [25. ]\n",
      " [40. ]\n",
      " [39. ]\n",
      " [43. ]\n",
      " [22. ]\n",
      " [20. ]\n",
      " [22. ]\n",
      " [24. ]\n",
      " [27.5]\n",
      " [43. ]\n",
      " [40. ]\n",
      " [24. ]\n",
      " [21. ]\n",
      " [27.5]\n",
      " [40. ]\n",
      " [32.8]\n",
      " [26.5]\n",
      " [36.5]\n",
      " [13.7]\n",
      " [22.7]\n",
      " [15. ]\n",
      " [37. ]\n",
      " [35. ]\n",
      " [28.7]\n",
      " [23.5]\n",
      " [39. ]\n",
      " [21. ]\n",
      " [23. ]\n",
      " [22. ]\n",
      " [44. ]\n",
      " [22.5]\n",
      " [19. ]\n",
      " [37. ]\n",
      " [22. ]\n",
      " [25.6]\n",
      " [42. ]\n",
      " [34.5]]\n",
      "----\n",
      "[40.  22.  19.  36.  18.7 37.  27.3 22.  42.  21.  32.8 28.  21.3 24.6] [[ 8.4]\n",
      " [18. ]\n",
      " [27.5]\n",
      " [21.3]\n",
      " [22.5]\n",
      " [40. ]\n",
      " [30. ]\n",
      " [24.6]\n",
      " [39. ]\n",
      " [21. ]\n",
      " [43.5]\n",
      " [16.2]\n",
      " [28. ]\n",
      " [27.3]]\n"
     ]
    }
   ],
   "source": [
    "#trainInput = train_input.reshape(2,21)  #21짜리 2개\n",
    "trainInput = trainInput.reshape(-1,1)    #1짜리 배열로 자동으로 잘라서 만들기\n",
    "print(train_input, trainInput)\n",
    "testInput = testInput.reshape(-1, 1)\n",
    "print('----')\n",
    "print(test_input, testInput)\n"
   ]
  },
  {
   "cell_type": "code",
   "execution_count": 25,
   "id": "1de70a96",
   "metadata": {},
   "outputs": [],
   "source": [
    "from sklearn.neighbors import KNeighborsRegressor"
   ]
  },
  {
   "cell_type": "code",
   "execution_count": 35,
   "id": "9c055996",
   "metadata": {},
   "outputs": [
    {
     "name": "stdout",
     "output_type": "stream",
     "text": [
      "0.992809406101064\n"
     ]
    }
   ],
   "source": [
    "knr = KNeighborsRegressor()\n",
    "knr.fit(trainInput, trainTarget)\n",
    "print(knr.score(testInput, testTarget))"
   ]
  },
  {
   "cell_type": "code",
   "execution_count": 37,
   "id": "77ff3f85",
   "metadata": {},
   "outputs": [
    {
     "name": "stdout",
     "output_type": "stream",
     "text": [
      "19.157142857142862\n"
     ]
    }
   ],
   "source": [
    "from sklearn.metrics import mean_absolute_error\n",
    "testPreediction = knr.predict(testInput)\n",
    "mae = mean_absolute_error(testTarget, testPreediction)\n",
    "print(mae)\n",
    "\n",
    "#todo:19g만큼 다르다는데 19g의 단위가 뭘까"
   ]
  },
  {
   "cell_type": "code",
   "execution_count": 38,
   "id": "8466b4c5",
   "metadata": {},
   "outputs": [
    {
     "name": "stdout",
     "output_type": "stream",
     "text": [
      "0.9698823289099254\n"
     ]
    }
   ],
   "source": [
    "print(knr.score(trainInput, trainTarget))"
   ]
  },
  {
   "cell_type": "code",
   "execution_count": 39,
   "id": "a73f8c3b",
   "metadata": {},
   "outputs": [
    {
     "name": "stdout",
     "output_type": "stream",
     "text": [
      "0.9804899950518966\n"
     ]
    }
   ],
   "source": [
    "knr.n_neighbors = 3\n",
    "knr.fit(trainInput, trainTarget)\n",
    "print(knr.score(trainInput, trainTarget))\n"
   ]
  },
  {
   "cell_type": "code",
   "execution_count": 40,
   "id": "f13d41ea",
   "metadata": {},
   "outputs": [
    {
     "data": {
      "text/plain": [
       "0.9746459963987609"
      ]
     },
     "execution_count": 40,
     "metadata": {},
     "output_type": "execute_result"
    }
   ],
   "source": [
    "knr.score(testInput, testTarget)"
   ]
  },
  {
   "cell_type": "code",
   "execution_count": 48,
   "id": "4e698deb",
   "metadata": {},
   "outputs": [
    {
     "data": {
      "image/png": "[encoded data removed]",
      "text/plain": [
       "<Figure size 432x288 with 1 Axes>"
      ]
     },
     "metadata": {
      "needs_background": "light"
     },
     "output_type": "display_data"
    },
    {
     "data": {
      "image/png": "[encoded data removed]",
      "text/plain": [
       "<Figure size 432x288 with 1 Axes>"
      ]
     },
     "metadata": {
      "needs_background": "light"
     },
     "output_type": "display_data"
    },
    {
     "data": {
      "image/png": "[encoded data removed]",
      "text/plain": [
       "<Figure size 432x288 with 1 Axes>"
      ]
     },
     "metadata": {
      "needs_background": "light"
     },
     "output_type": "display_data"
    }
   ],
   "source": [
    "knr=KNeighborsRegressor()\n",
    "x = np.arange(5, 45).reshape(-1, 1)\n",
    "# x = np.arange(5, 45).reshape(-1, 1)\n",
    "for n in [1,5,10]:\n",
    "    knr.n_neighbors = n\n",
    "#     knr.n_neighbors = n\n",
    "    knr.fit(trainInput, trainTarget)\n",
    "#     knr.fit(trainInput, trainTarget)\n",
    "    prediction = knr.predict(x)\n",
    "    \n",
    "    plt.scatter(trainInput, trainTarget)\n",
    "    plt.plot(x, prediction)\n",
    "    \n",
    "    plt.title('nei = {}'.format(n))\n",
    "    plt.xlabel('len')\n",
    "    plt.ylabel('wei')\n",
    "    plt.show()"
   ]
  }
 ],
 "metadata": {
  "kernelspec": {
   "display_name": "Python 3",
   "language": "python",
   "name": "python3"
  },
  "language_info": {
   "codemirror_mode": {
    "name": "ipython",
    "version": 3
   },
   "file_extension": ".py",
   "mimetype": "text/x-python",
   "name": "python",
   "nbconvert_exporter": "python",
   "pygments_lexer": "ipython3",
   "version": "3.6.13"
  }
 },
 "nbformat": 4,
 "nbformat_minor": 5
}