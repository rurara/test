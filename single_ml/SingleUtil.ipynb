{
 "cells": [
  {
   "cell_type": "code",
   "execution_count": 1,
   "id": "393cb09a-1b71-404b-a5cf-0fd5d5638ea5",
   "metadata": {},
   "outputs": [],
   "source": [
    "import matplotlib.pyplot as plt\n",
    "import numpy as np\n",
    "def draw_fruits(arr,ratio=1):\n",
    "    n=len(arr)\n",
    "    rows=int(np.ceil(n/10))\n",
    "    cols=n if rows < 2 else 10\n",
    "    fig, axs = plt.subplots(rows, cols, figsize=(cols*ratio, rows*ratio), squeeze=False)\n",
    "\n",
    "    for i in range(rows):\n",
    "        for q in range(cols):\n",
    "            if i*10+q<n:\n",
    "                axs[i,q].imshow(arr[i*10+q],cmap='gray_r')\n",
    "            axs[i,q].axis('off')\n",
    "    plt.show()\n",
    "    \n",
    "    "
   ]
  },
  {
   "cell_type": "code",
   "execution_count": null,
   "id": "e22fd975-3f2b-4cb5-88b1-955f21b2654e",
   "metadata": {},
   "outputs": [],
   "source": []
  }
 ],
 "metadata": {
  "kernelspec": {
   "display_name": "Python 3 (ipykernel)",
   "language": "python",
   "name": "python3"
  },
  "language_info": {
   "codemirror_mode": {
    "name": "ipython",
    "version": 3
   },
   "file_extension": ".py",
   "mimetype": "text/x-python",
   "name": "python",
   "nbconvert_exporter": "python",
   "pygments_lexer": "ipython3",
   "version": "3.11.4"
  }
 },
 "nbformat": 4,
 "nbformat_minor": 5
}
