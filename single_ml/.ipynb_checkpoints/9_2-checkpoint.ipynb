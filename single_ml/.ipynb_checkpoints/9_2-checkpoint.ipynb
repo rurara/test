{
  "cells": [
    {
      "cell_type": "code",
      "execution_count": 1,
      "id": "f9f02745-b6bb-4867-95f0-422fc544daeb",
      "metadata": {
        "colab": {
          "base_uri": "https://localhost:8080/"
        },
        "id": "f9f02745-b6bb-4867-95f0-422fc544daeb",
        "outputId": "d8b159c8-9d11-4c27-f24d-762bef73f670"
      },
      "outputs": [
        {
          "output_type": "stream",
          "name": "stdout",
          "text": [
            "Downloading data from https://storage.googleapis.com/tensorflow/tf-keras-datasets/imdb.npz\n",
            "17464789/17464789 [==============================] - 0s 0us/step\n",
            "(25000,) (25000,)\n"
          ]
        }
      ],
      "source": [
        "from tensorflow.keras.datasets import imdb\n",
        "(train_input, train_target), (test_input, test_target) = imdb.load_data(num_words=500)\n",
        "print(train_input.shape, test_input.shape)"
      ]
    },
    {
      "cell_type": "code",
      "execution_count": 2,
      "id": "c92bb31b-82ef-447c-bd9e-058243647e32",
      "metadata": {
        "colab": {
          "base_uri": "https://localhost:8080/"
        },
        "id": "c92bb31b-82ef-447c-bd9e-058243647e32",
        "outputId": "31f5efeb-8dd1-44d0-b35a-05bdde906911"
      },
      "outputs": [
        {
          "output_type": "stream",
          "name": "stdout",
          "text": [
            "218\n",
            "[1, 14, 22, 16, 43, 2, 2, 2, 2, 65, 458, 2, 66, 2, 4, 173, 36, 256, 5, 25, 100, 43, 2, 112, 50, 2, 2, 9, 35, 480, 284, 5, 150, 4, 172, 112, 167, 2, 336, 385, 39, 4, 172, 2, 2, 17, 2, 38, 13, 447, 4, 192, 50, 16, 6, 147, 2, 19, 14, 22, 4, 2, 2, 469, 4, 22, 71, 87, 12, 16, 43, 2, 38, 76, 15, 13, 2, 4, 22, 17, 2, 17, 12, 16, 2, 18, 2, 5, 62, 386, 12, 8, 316, 8, 106, 5, 4, 2, 2, 16, 480, 66, 2, 33, 4, 130, 12, 16, 38, 2, 5, 25, 124, 51, 36, 135, 48, 25, 2, 33, 6, 22, 12, 215, 28, 77, 52, 5, 14, 407, 16, 82, 2, 8, 4, 107, 117, 2, 15, 256, 4, 2, 7, 2, 5, 2, 36, 71, 43, 2, 476, 26, 400, 317, 46, 7, 4, 2, 2, 13, 104, 88, 4, 381, 15, 297, 98, 32, 2, 56, 26, 141, 6, 194, 2, 18, 4, 226, 22, 21, 134, 476, 26, 480, 5, 144, 30, 2, 18, 51, 36, 28, 224, 92, 25, 104, 4, 226, 65, 16, 38, 2, 88, 12, 16, 283, 5, 16, 2, 113, 103, 32, 15, 16, 2, 19, 178, 32]\n",
            "[1 0 0 1 0 0 1 0 1 0 1 0 0 0 0 0 1 1 0 1]\n"
          ]
        }
      ],
      "source": [
        "print(len(train_input[0]))\n",
        "print(train_input[0])\n",
        "print(train_target[:20])"
      ]
    },
    {
      "cell_type": "code",
      "execution_count": 3,
      "id": "5dfbb1fd-2ba3-4127-a68f-2c12cbac2533",
      "metadata": {
        "id": "5dfbb1fd-2ba3-4127-a68f-2c12cbac2533"
      },
      "outputs": [],
      "source": [
        "from sklearn.model_selection import train_test_split\n",
        "\n",
        "#메모리 부족으로 테스트 사이즈 줄임\n",
        "train_input, val_input, train_target, val_target = train_test_split(train_input, train_target, test_size=0.2, random_state=42)\n",
        "\n",
        "# train_input, val_input, train_target, val_target = train_test_split(train_input, train_target, test_size=0.9, random_state=42)\n"
      ]
    },
    {
      "cell_type": "code",
      "execution_count": 4,
      "id": "c6113009-802e-471b-bb76-d0391f2706b3",
      "metadata": {
        "id": "c6113009-802e-471b-bb76-d0391f2706b3"
      },
      "outputs": [],
      "source": [
        "import numpy as np\n",
        "lengts = np.array([len(x) for x in train_input])"
      ]
    },
    {
      "cell_type": "code",
      "execution_count": 5,
      "id": "8283503c-d7a4-43b6-97bd-6b74b0c727ad",
      "metadata": {
        "colab": {
          "base_uri": "https://localhost:8080/"
        },
        "id": "8283503c-d7a4-43b6-97bd-6b74b0c727ad",
        "outputId": "3e08e99b-9962-4caa-8fd3-207bb308f47a"
      },
      "outputs": [
        {
          "output_type": "stream",
          "name": "stdout",
          "text": [
            "239.00925 178.0\n"
          ]
        }
      ],
      "source": [
        "print(np.mean(lengts), np.median(lengts))"
      ]
    },
    {
      "cell_type": "code",
      "execution_count": 6,
      "id": "db72cea4-8237-492e-9541-1749ffb3ec2b",
      "metadata": {
        "colab": {
          "base_uri": "https://localhost:8080/",
          "height": 430
        },
        "id": "db72cea4-8237-492e-9541-1749ffb3ec2b",
        "outputId": "7b654424-68a5-4c35-de46-f61ae1e402a3"
      },
      "outputs": [
        {
          "output_type": "display_data",
          "data": {
            "text/plain": [
              "<Figure size 640x480 with 1 Axes>"
            ],
            "image/png": "[encoded data removed]"
          },
          "metadata": {}
        }
      ],
      "source": [
        "import matplotlib.pyplot as plt\n",
        "plt.hist(lengts)\n",
        "plt.show()"
      ]
    },
    {
      "cell_type": "code",
      "execution_count": 7,
      "id": "93054011-c7cb-4c92-940b-2d17f4cd6d83",
      "metadata": {
        "colab": {
          "base_uri": "https://localhost:8080/"
        },
        "id": "93054011-c7cb-4c92-940b-2d17f4cd6d83",
        "outputId": "cb525da6-c236-4424-b18d-3d48efad8791"
      },
      "outputs": [
        {
          "output_type": "execute_result",
          "data": {
            "text/plain": [
              "(20000, 100)"
            ]
          },
          "metadata": {},
          "execution_count": 7
        }
      ],
      "source": [
        "from tensorflow.keras.preprocessing.sequence import pad_sequences\n",
        "train_seq = pad_sequences(train_input, maxlen=100)\n",
        "train_seq.shape"
      ]
    },
    {
      "cell_type": "code",
      "execution_count": 8,
      "id": "ecf49fb7-3975-4602-b706-51774d6378e1",
      "metadata": {
        "id": "ecf49fb7-3975-4602-b706-51774d6378e1"
      },
      "outputs": [],
      "source": [
        "val_seq = pad_sequences(val_input, maxlen=100)"
      ]
    },
    {
      "cell_type": "code",
      "execution_count": 9,
      "id": "8aef5f16-e2b3-4da0-a0a2-fe0d93e8d90c",
      "metadata": {
        "id": "8aef5f16-e2b3-4da0-a0a2-fe0d93e8d90c"
      },
      "outputs": [],
      "source": [
        "from tensorflow import keras\n",
        "model = keras.Sequential()\n",
        "model.add(keras.layers.SimpleRNN(8,input_shape=(100,500)))\n",
        "model.add(keras.layers.Dense(1, activation='sigmoid'))"
      ]
    },
    {
      "cell_type": "code",
      "execution_count": 10,
      "id": "6d17c129-ac5d-4780-bce8-16fd0f7cb25d",
      "metadata": {
        "colab": {
          "base_uri": "https://localhost:8080/"
        },
        "id": "6d17c129-ac5d-4780-bce8-16fd0f7cb25d",
        "outputId": "130e53ff-e294-480f-dd69-8408f932ba1c"
      },
      "outputs": [
        {
          "output_type": "stream",
          "name": "stdout",
          "text": [
            "(20000, 100, 500)\n",
            "[[0. 0. 0. ... 0. 0. 0.]\n",
            " [0. 0. 0. ... 0. 0. 0.]\n",
            " [0. 0. 0. ... 0. 0. 0.]\n",
            " ...\n",
            " [0. 0. 0. ... 0. 0. 0.]\n",
            " [0. 0. 0. ... 0. 0. 0.]\n",
            " [0. 0. 0. ... 0. 0. 0.]]\n"
          ]
        }
      ],
      "source": [
        "train_oh = keras.utils.to_categorical(train_seq)\n",
        "print(train_oh.shape)\n",
        "print(train_oh[0])\n"
      ]
    },
    {
      "cell_type": "code",
      "execution_count": 11,
      "id": "863e81e9-2a2d-4ab5-ba35-08577c7153d1",
      "metadata": {
        "id": "863e81e9-2a2d-4ab5-ba35-08577c7153d1"
      },
      "outputs": [],
      "source": [
        "val_oh = keras.utils.to_categorical(val_seq)"
      ]
    },
    {
      "cell_type": "code",
      "execution_count": 12,
      "id": "52b418a0-7a4f-4216-9972-d2b1553bc59b",
      "metadata": {
        "colab": {
          "base_uri": "https://localhost:8080/"
        },
        "id": "52b418a0-7a4f-4216-9972-d2b1553bc59b",
        "outputId": "e51ea807-5b26-40eb-a96b-505b0715592b"
      },
      "outputs": [
        {
          "output_type": "stream",
          "name": "stdout",
          "text": [
            "Model: \"sequential\"\n",
            "_________________________________________________________________\n",
            " Layer (type)                Output Shape              Param #   \n",
            "=================================================================\n",
            " simple_rnn (SimpleRNN)      (None, 8)                 4072      \n",
            "                                                                 \n",
            " dense (Dense)               (None, 1)                 9         \n",
            "                                                                 \n",
            "=================================================================\n",
            "Total params: 4,081\n",
            "Trainable params: 4,081\n",
            "Non-trainable params: 0\n",
            "_________________________________________________________________\n"
          ]
        }
      ],
      "source": [
        "model.summary()"
      ]
    },
    {
      "cell_type": "code",
      "execution_count": 13,
      "id": "75820f05-289a-47c3-857e-8ada81ce5ba2",
      "metadata": {
        "colab": {
          "base_uri": "https://localhost:8080/"
        },
        "id": "75820f05-289a-47c3-857e-8ada81ce5ba2",
        "outputId": "01f8c69b-6475-46db-950f-8946569ebab2"
      },
      "outputs": [
        {
          "output_type": "stream",
          "name": "stdout",
          "text": [
            "Epoch 1/100\n",
            "313/313 [==============================] - 11s 32ms/step - loss: 0.7002 - accuracy: 0.4978 - val_loss: 0.6953 - val_accuracy: 0.5056\n",
            "Epoch 2/100\n",
            "313/313 [==============================] - 8s 24ms/step - loss: 0.6945 - accuracy: 0.5151 - val_loss: 0.6927 - val_accuracy: 0.5202\n",
            "Epoch 3/100\n",
            "313/313 [==============================] - 8s 26ms/step - loss: 0.6917 - accuracy: 0.5247 - val_loss: 0.6912 - val_accuracy: 0.5302\n",
            "Epoch 4/100\n",
            "313/313 [==============================] - 9s 27ms/step - loss: 0.6898 - accuracy: 0.5364 - val_loss: 0.6899 - val_accuracy: 0.5358\n",
            "Epoch 5/100\n",
            "313/313 [==============================] - 7s 24ms/step - loss: 0.6880 - accuracy: 0.5433 - val_loss: 0.6886 - val_accuracy: 0.5384\n",
            "Epoch 6/100\n",
            "313/313 [==============================] - 8s 26ms/step - loss: 0.6863 - accuracy: 0.5530 - val_loss: 0.6873 - val_accuracy: 0.5430\n",
            "Epoch 7/100\n",
            "313/313 [==============================] - 9s 27ms/step - loss: 0.6844 - accuracy: 0.5603 - val_loss: 0.6862 - val_accuracy: 0.5484\n",
            "Epoch 8/100\n",
            "313/313 [==============================] - 7s 23ms/step - loss: 0.6824 - accuracy: 0.5684 - val_loss: 0.6848 - val_accuracy: 0.5540\n",
            "Epoch 9/100\n",
            "313/313 [==============================] - 8s 26ms/step - loss: 0.6801 - accuracy: 0.5756 - val_loss: 0.6830 - val_accuracy: 0.5596\n",
            "Epoch 10/100\n",
            "313/313 [==============================] - 8s 26ms/step - loss: 0.6777 - accuracy: 0.5823 - val_loss: 0.6816 - val_accuracy: 0.5638\n",
            "Epoch 11/100\n",
            "313/313 [==============================] - 8s 26ms/step - loss: 0.6748 - accuracy: 0.5911 - val_loss: 0.6794 - val_accuracy: 0.5730\n",
            "Epoch 12/100\n",
            "313/313 [==============================] - 8s 26ms/step - loss: 0.6710 - accuracy: 0.5972 - val_loss: 0.6759 - val_accuracy: 0.5792\n",
            "Epoch 13/100\n",
            "313/313 [==============================] - 8s 26ms/step - loss: 0.6550 - accuracy: 0.6310 - val_loss: 0.6530 - val_accuracy: 0.6370\n",
            "Epoch 14/100\n",
            "313/313 [==============================] - 8s 25ms/step - loss: 0.6344 - accuracy: 0.6608 - val_loss: 0.6335 - val_accuracy: 0.6674\n",
            "Epoch 15/100\n",
            "313/313 [==============================] - 8s 25ms/step - loss: 0.6112 - accuracy: 0.6916 - val_loss: 0.6084 - val_accuracy: 0.6966\n",
            "Epoch 16/100\n",
            "313/313 [==============================] - 8s 26ms/step - loss: 0.5865 - accuracy: 0.7139 - val_loss: 0.5847 - val_accuracy: 0.7150\n",
            "Epoch 17/100\n",
            "313/313 [==============================] - 8s 25ms/step - loss: 0.5631 - accuracy: 0.7323 - val_loss: 0.5628 - val_accuracy: 0.7328\n",
            "Epoch 18/100\n",
            "313/313 [==============================] - 8s 24ms/step - loss: 0.5422 - accuracy: 0.7477 - val_loss: 0.5441 - val_accuracy: 0.7454\n",
            "Epoch 19/100\n",
            "313/313 [==============================] - 8s 26ms/step - loss: 0.5234 - accuracy: 0.7606 - val_loss: 0.5295 - val_accuracy: 0.7558\n",
            "Epoch 20/100\n",
            "313/313 [==============================] - 8s 25ms/step - loss: 0.5073 - accuracy: 0.7722 - val_loss: 0.5174 - val_accuracy: 0.7576\n",
            "Epoch 21/100\n",
            "313/313 [==============================] - 8s 24ms/step - loss: 0.4945 - accuracy: 0.7796 - val_loss: 0.5062 - val_accuracy: 0.7644\n",
            "Epoch 22/100\n",
            "313/313 [==============================] - 8s 26ms/step - loss: 0.4827 - accuracy: 0.7847 - val_loss: 0.4990 - val_accuracy: 0.7660\n",
            "Epoch 23/100\n",
            "313/313 [==============================] - 8s 25ms/step - loss: 0.4731 - accuracy: 0.7892 - val_loss: 0.4890 - val_accuracy: 0.7772\n",
            "Epoch 24/100\n",
            "313/313 [==============================] - 8s 24ms/step - loss: 0.4645 - accuracy: 0.7948 - val_loss: 0.4845 - val_accuracy: 0.7774\n",
            "Epoch 25/100\n",
            "313/313 [==============================] - 8s 26ms/step - loss: 0.4579 - accuracy: 0.7958 - val_loss: 0.4781 - val_accuracy: 0.7834\n",
            "Epoch 26/100\n",
            "313/313 [==============================] - 8s 25ms/step - loss: 0.4517 - accuracy: 0.7991 - val_loss: 0.4736 - val_accuracy: 0.7832\n",
            "Epoch 27/100\n",
            "313/313 [==============================] - 7s 24ms/step - loss: 0.4458 - accuracy: 0.8020 - val_loss: 0.4698 - val_accuracy: 0.7870\n",
            "Epoch 28/100\n",
            "313/313 [==============================] - 8s 26ms/step - loss: 0.4410 - accuracy: 0.8043 - val_loss: 0.4706 - val_accuracy: 0.7826\n",
            "Epoch 29/100\n",
            "313/313 [==============================] - 8s 26ms/step - loss: 0.4369 - accuracy: 0.8067 - val_loss: 0.4660 - val_accuracy: 0.7888\n",
            "Epoch 30/100\n",
            "313/313 [==============================] - 7s 24ms/step - loss: 0.4324 - accuracy: 0.8089 - val_loss: 0.4653 - val_accuracy: 0.7860\n",
            "Epoch 31/100\n",
            "313/313 [==============================] - 8s 26ms/step - loss: 0.4293 - accuracy: 0.8117 - val_loss: 0.4617 - val_accuracy: 0.7864\n",
            "Epoch 32/100\n",
            "313/313 [==============================] - 8s 26ms/step - loss: 0.4264 - accuracy: 0.8130 - val_loss: 0.4602 - val_accuracy: 0.7910\n",
            "Epoch 33/100\n",
            "313/313 [==============================] - 7s 24ms/step - loss: 0.4235 - accuracy: 0.8136 - val_loss: 0.4613 - val_accuracy: 0.7928\n",
            "Epoch 34/100\n",
            "313/313 [==============================] - 8s 26ms/step - loss: 0.4209 - accuracy: 0.8145 - val_loss: 0.4603 - val_accuracy: 0.7904\n",
            "Epoch 35/100\n",
            "313/313 [==============================] - 9s 28ms/step - loss: 0.4189 - accuracy: 0.8144 - val_loss: 0.4576 - val_accuracy: 0.7922\n",
            "Epoch 36/100\n",
            "313/313 [==============================] - 7s 24ms/step - loss: 0.4165 - accuracy: 0.8160 - val_loss: 0.4578 - val_accuracy: 0.7920\n",
            "Epoch 37/100\n",
            "313/313 [==============================] - 8s 26ms/step - loss: 0.4151 - accuracy: 0.8169 - val_loss: 0.4649 - val_accuracy: 0.7888\n",
            "Epoch 38/100\n",
            "313/313 [==============================] - 8s 26ms/step - loss: 0.4129 - accuracy: 0.8176 - val_loss: 0.4595 - val_accuracy: 0.7916\n"
          ]
        }
      ],
      "source": [
        "rmsprop = keras.optimizers.RMSprop(learning_rate=1e-4)\n",
        "model.compile(optimizer=rmsprop, loss='binary_crossentropy', metrics=['accuracy'])\n",
        "checkpoint_cb = keras.callbacks.ModelCheckpoint('best-simplernn.h5')\n",
        "early_stopping_cb = keras.callbacks.EarlyStopping(patience=3, restore_best_weights=True)\n",
        "\n",
        "#이대로 하면 메모리 부족으로 실행 안됨\n",
        "history = model.fit(train_oh, train_target, epochs=100, batch_size=64, validation_data=(val_oh, val_target), callbacks=[checkpoint_cb, early_stopping_cb])\n",
        "# history = model.fit(train_oh, train_target, epochs=100, batch_size=32, validation_data=(val_oh, val_target), callbacks=[checkpoint_cb, early_stopping_cb])"
      ]
    },
    {
      "cell_type": "code",
      "execution_count": 14,
      "id": "d2557bc2-42a1-45d3-a850-6cf24932a4bf",
      "metadata": {
        "colab": {
          "base_uri": "https://localhost:8080/",
          "height": 430
        },
        "id": "d2557bc2-42a1-45d3-a850-6cf24932a4bf",
        "outputId": "f086c31a-2fc6-47ec-cb2c-0e01eac4d3fa"
      },
      "outputs": [
        {
          "output_type": "display_data",
          "data": {
            "text/plain": [
              "<Figure size 640x480 with 1 Axes>"
            ],
            "image/png": "[encoded data removed]"
          },
          "metadata": {}
        }
      ],
      "source": [
        "plt.plot(history.history['loss'])\n",
        "plt.plot(history.history['val_loss'])\n",
        "plt.show()"
      ]
    },
    {
      "cell_type": "code",
      "source": [
        "\n",
        "print(train_seq.nbytes, train_oh.nbytes)"
      ],
      "metadata": {
        "colab": {
          "base_uri": "https://localhost:8080/"
        },
        "id": "Jgh1H2EF9F_6",
        "outputId": "3267195c-f0d7-4f21-95a7-77afe5462638"
      },
      "id": "Jgh1H2EF9F_6",
      "execution_count": 16,
      "outputs": [
        {
          "output_type": "stream",
          "name": "stdout",
          "text": [
            "8000000 4000000000\n"
          ]
        }
      ]
    },
    {
      "cell_type": "code",
      "source": [
        "model2 =keras.Sequential()\n",
        "model2.add(keras.layers.Embedding(500, 16, input_length=100))\n",
        "model2.add(keras.layers.SimpleRNN(8))\n",
        "model2.add(keras.layers.Dense(1,activation='sigmoid'))"
      ],
      "metadata": {
        "id": "DoGD1BWJ9SzS"
      },
      "id": "DoGD1BWJ9SzS",
      "execution_count": 18,
      "outputs": []
    },
    {
      "cell_type": "code",
      "source": [
        "model2.summary()"
      ],
      "metadata": {
        "colab": {
          "base_uri": "https://localhost:8080/"
        },
        "id": "5bphQoWx9sNi",
        "outputId": "69a47d13-efe2-41bb-8374-c69599595c7f"
      },
      "id": "5bphQoWx9sNi",
      "execution_count": 19,
      "outputs": [
        {
          "output_type": "stream",
          "name": "stdout",
          "text": [
            "Model: \"sequential_2\"\n",
            "_________________________________________________________________\n",
            " Layer (type)                Output Shape              Param #   \n",
            "=================================================================\n",
            " embedding_1 (Embedding)     (None, 100, 16)           8000      \n",
            "                                                                 \n",
            " simple_rnn_1 (SimpleRNN)    (None, 8)                 200       \n",
            "                                                                 \n",
            " dense_1 (Dense)             (None, 1)                 9         \n",
            "                                                                 \n",
            "=================================================================\n",
            "Total params: 8,209\n",
            "Trainable params: 8,209\n",
            "Non-trainable params: 0\n",
            "_________________________________________________________________\n"
          ]
        }
      ]
    },
    {
      "cell_type": "code",
      "source": [
        "rmsprop = keras.optimizers.RMSprop(learning_rate=1e-4)\n",
        "model2.compile(optimizer=rmsprop, loss='binary_crossentropy', metrics=['accuracy'])\n",
        "checkpoint_cb = keras.callbacks.ModelCheckpoint('best-embedding.h5')\n",
        "early_stopping_cb = keras.callbacks.EarlyStopping(patience=3, restore_best_weights=True)\n",
        "\n",
        "history = model2.fit(train_seq, train_target, epochs=100, batch_size=64, validation_data=(val_seq, val_target), callbacks=[checkpoint_cb, early_stopping_cb])\n"
      ],
      "metadata": {
        "colab": {
          "base_uri": "https://localhost:8080/"
        },
        "id": "1LCmpwur9uAW",
        "outputId": "3fc87498-3962-41d5-badf-650db0443e77"
      },
      "id": "1LCmpwur9uAW",
      "execution_count": 20,
      "outputs": [
        {
          "output_type": "stream",
          "name": "stdout",
          "text": [
            "Epoch 1/100\n",
            "313/313 [==============================] - 7s 18ms/step - loss: 0.6935 - accuracy: 0.5053 - val_loss: 0.6917 - val_accuracy: 0.5260\n",
            "Epoch 2/100\n",
            "313/313 [==============================] - 5s 15ms/step - loss: 0.6885 - accuracy: 0.5451 - val_loss: 0.6872 - val_accuracy: 0.5572\n",
            "Epoch 3/100\n",
            "313/313 [==============================] - 8s 26ms/step - loss: 0.6787 - accuracy: 0.5980 - val_loss: 0.6694 - val_accuracy: 0.6174\n",
            "Epoch 4/100\n",
            "313/313 [==============================] - 6s 19ms/step - loss: 0.6312 - accuracy: 0.6852 - val_loss: 0.6139 - val_accuracy: 0.7054\n",
            "Epoch 5/100\n",
            "313/313 [==============================] - 5s 17ms/step - loss: 0.5940 - accuracy: 0.7234 - val_loss: 0.5857 - val_accuracy: 0.7264\n",
            "Epoch 6/100\n",
            "313/313 [==============================] - 5s 14ms/step - loss: 0.5673 - accuracy: 0.7437 - val_loss: 0.5659 - val_accuracy: 0.7392\n",
            "Epoch 7/100\n",
            "313/313 [==============================] - 6s 19ms/step - loss: 0.5465 - accuracy: 0.7548 - val_loss: 0.5473 - val_accuracy: 0.7470\n",
            "Epoch 8/100\n",
            "313/313 [==============================] - 5s 17ms/step - loss: 0.5281 - accuracy: 0.7664 - val_loss: 0.5321 - val_accuracy: 0.7510\n",
            "Epoch 9/100\n",
            "313/313 [==============================] - 4s 14ms/step - loss: 0.5128 - accuracy: 0.7739 - val_loss: 0.5207 - val_accuracy: 0.7590\n",
            "Epoch 10/100\n",
            "313/313 [==============================] - 5s 17ms/step - loss: 0.5030 - accuracy: 0.7755 - val_loss: 0.5145 - val_accuracy: 0.7576\n",
            "Epoch 11/100\n",
            "313/313 [==============================] - 5s 17ms/step - loss: 0.4915 - accuracy: 0.7825 - val_loss: 0.5077 - val_accuracy: 0.7640\n",
            "Epoch 12/100\n",
            "313/313 [==============================] - 5s 17ms/step - loss: 0.4825 - accuracy: 0.7853 - val_loss: 0.5006 - val_accuracy: 0.7640\n",
            "Epoch 13/100\n",
            "313/313 [==============================] - 5s 15ms/step - loss: 0.4740 - accuracy: 0.7908 - val_loss: 0.4943 - val_accuracy: 0.7698\n",
            "Epoch 14/100\n",
            "313/313 [==============================] - 5s 17ms/step - loss: 0.4651 - accuracy: 0.7959 - val_loss: 0.4861 - val_accuracy: 0.7760\n",
            "Epoch 15/100\n",
            "313/313 [==============================] - 5s 15ms/step - loss: 0.4588 - accuracy: 0.7984 - val_loss: 0.4816 - val_accuracy: 0.7792\n",
            "Epoch 16/100\n",
            "313/313 [==============================] - 5s 15ms/step - loss: 0.4522 - accuracy: 0.8016 - val_loss: 0.4848 - val_accuracy: 0.7730\n",
            "Epoch 17/100\n",
            "313/313 [==============================] - 6s 20ms/step - loss: 0.4477 - accuracy: 0.8041 - val_loss: 0.4800 - val_accuracy: 0.7752\n",
            "Epoch 18/100\n",
            "313/313 [==============================] - 4s 14ms/step - loss: 0.4427 - accuracy: 0.8062 - val_loss: 0.4755 - val_accuracy: 0.7812\n",
            "Epoch 19/100\n",
            "313/313 [==============================] - 5s 17ms/step - loss: 0.4388 - accuracy: 0.8077 - val_loss: 0.4764 - val_accuracy: 0.7784\n",
            "Epoch 20/100\n",
            "313/313 [==============================] - 6s 19ms/step - loss: 0.4349 - accuracy: 0.8102 - val_loss: 0.4739 - val_accuracy: 0.7820\n",
            "Epoch 21/100\n",
            "313/313 [==============================] - 5s 17ms/step - loss: 0.4302 - accuracy: 0.8128 - val_loss: 0.4740 - val_accuracy: 0.7814\n",
            "Epoch 22/100\n",
            "313/313 [==============================] - 5s 17ms/step - loss: 0.4275 - accuracy: 0.8132 - val_loss: 0.4715 - val_accuracy: 0.7816\n",
            "Epoch 23/100\n",
            "313/313 [==============================] - 6s 19ms/step - loss: 0.4235 - accuracy: 0.8164 - val_loss: 0.4779 - val_accuracy: 0.7786\n",
            "Epoch 24/100\n",
            "313/313 [==============================] - 6s 18ms/step - loss: 0.4213 - accuracy: 0.8184 - val_loss: 0.4690 - val_accuracy: 0.7844\n",
            "Epoch 25/100\n",
            "313/313 [==============================] - 5s 16ms/step - loss: 0.4188 - accuracy: 0.8178 - val_loss: 0.4699 - val_accuracy: 0.7826\n",
            "Epoch 26/100\n",
            "313/313 [==============================] - 5s 15ms/step - loss: 0.4165 - accuracy: 0.8212 - val_loss: 0.4702 - val_accuracy: 0.7812\n",
            "Epoch 27/100\n",
            "313/313 [==============================] - 4s 14ms/step - loss: 0.4134 - accuracy: 0.8210 - val_loss: 0.4682 - val_accuracy: 0.7842\n",
            "Epoch 28/100\n",
            "313/313 [==============================] - 5s 17ms/step - loss: 0.4118 - accuracy: 0.8235 - val_loss: 0.4692 - val_accuracy: 0.7840\n",
            "Epoch 29/100\n",
            "313/313 [==============================] - 5s 15ms/step - loss: 0.4091 - accuracy: 0.8249 - val_loss: 0.4744 - val_accuracy: 0.7818\n",
            "Epoch 30/100\n",
            "313/313 [==============================] - 5s 16ms/step - loss: 0.4082 - accuracy: 0.8258 - val_loss: 0.4705 - val_accuracy: 0.7842\n"
          ]
        }
      ]
    },
    {
      "cell_type": "code",
      "source": [
        "plt.plot(history.history['loss'])\n",
        "plt.plot(history.history['val_loss'])\n",
        "plt.show()"
      ],
      "metadata": {
        "colab": {
          "base_uri": "https://localhost:8080/",
          "height": 430
        },
        "id": "7b0PA_C2-Zk9",
        "outputId": "5d82f7a4-e9d6-4d9a-ef5e-ce2016300194"
      },
      "id": "7b0PA_C2-Zk9",
      "execution_count": 21,
      "outputs": [
        {
          "output_type": "display_data",
          "data": {
            "text/plain": [
              "<Figure size 640x480 with 1 Axes>"
            ],
            "image/png": "[encoded data removed]"
          },
          "metadata": {}
        }
      ]
    },
    {
      "cell_type": "code",
      "source": [
        "#메모리 부족으로 메모리 말고 다른 방법 찾아서 로컬에서 도전해보자....젠장\n",
        "\n",
        "# ---------------------------------------------------------------------------\n",
        "# InternalError                             Traceback (most recent call last)\n",
        "# Cell In[16], line 8\n",
        "#       4 early_stopping_cb = keras.callbacks.EarlyStopping(patience=3, restore_best_weights=True)\n",
        "#       6 #이대로 하면 메모리 부족으로 실행 안됨\n",
        "#       7 # history = model.fit(train_oh, train_target, epochs=100, batch_size=64, validation_data=(val_oh, val_target), callbacks=[checkpoint_cb, early_stopping_cb])\n",
        "# ----> 8 history = model.fit(train_oh, train_target, epochs=100, batch_size=32, validation_data=(val_oh, val_target), callbacks=[checkpoint_cb, early_stopping_cb])\n",
        "\n",
        "# File C:\\ProgramData\\Anaconda3\\envs\\39\\lib\\site-packages\\keras\\utils\\traceback_utils.py:70, in filter_traceback.<locals>.error_handler(*args, **kwargs)\n",
        "#      67     filtered_tb = _process_traceback_frames(e.__traceback__)\n",
        "#      68     # To get the full stack trace, call:\n",
        "#      69     # `tf.debugging.disable_traceback_filtering()`\n",
        "# ---> 70     raise e.with_traceback(filtered_tb) from None\n",
        "#      71 finally:\n",
        "#      72     del filtered_tb\n",
        "\n",
        "# File C:\\ProgramData\\Anaconda3\\envs\\39\\lib\\site-packages\\tensorflow\\python\\framework\\constant_op.py:102, in convert_to_eager_tensor(value, ctx, dtype)\n",
        "#     100     dtype = dtypes.as_dtype(dtype).as_datatype_enum\n",
        "#     101 ctx.ensure_initialized()\n",
        "# --> 102 return ops.EagerTensor(value, ctx.device_name, dtype)\n",
        "\n",
        "# InternalError: Failed copying input tensor from /job:localhost/replica:0/task:0/device:CPU:0 to /job:localhost/replica:0/task:0/device:GPU:0 in order to run _EagerConst: Dst tensor is not initialized."
      ],
      "metadata": {
        "id": "9Fzn6NmB-dR8"
      },
      "id": "9Fzn6NmB-dR8",
      "execution_count": 22,
      "outputs": []
    },
    {
      "cell_type": "markdown",
      "source": [],
      "metadata": {
        "id": "sHc5qJxA-i7h"
      },
      "id": "sHc5qJxA-i7h"
    }
  ],
  "metadata": {
    "kernelspec": {
      "display_name": "Python 3 (ipykernel)",
      "language": "python",
      "name": "python3"
    },
    "language_info": {
      "codemirror_mode": {
        "name": "ipython",
        "version": 3
      },
      "file_extension": ".py",
      "mimetype": "text/x-python",
      "name": "python",
      "nbconvert_exporter": "python",
      "pygments_lexer": "ipython3",
      "version": "3.9.17"
    },
    "colab": {
      "provenance": []
    }
  },
  "nbformat": 4,
  "nbformat_minor": 5
}