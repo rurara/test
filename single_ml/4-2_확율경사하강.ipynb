{
 "cells": [
  {
   "cell_type": "code",
   "execution_count": 1,
   "id": "8c8bf814",
   "metadata": {},
   "outputs": [
    {
     "name": "stdout",
     "output_type": "stream",
     "text": [
      "  Species  Weight  Length  Diagonal   Height   Width\n",
      "0   Bream   242.0    25.4      30.0  11.5200  4.0200\n",
      "1   Bream   290.0    26.3      31.2  12.4800  4.3056\n",
      "2   Bream   340.0    26.5      31.1  12.3778  4.6961\n",
      "3   Bream   363.0    29.0      33.5  12.7300  4.4555\n",
      "4   Bream   430.0    29.0      34.0  12.4440  5.1340\n"
     ]
    }
   ],
   "source": [
    "import pandas as pd\n",
    "fish = pd.read_csv('fish.csv')\n",
    "print(fish.head())\n"
   ]
  },
  {
   "cell_type": "code",
   "execution_count": 2,
   "id": "1bfe57fe",
   "metadata": {},
   "outputs": [],
   "source": [
    "fishInput = fish[['Weight', 'Length', 'Diagonal','Height','Width']].to_numpy()\n",
    "fishTarget = fish['Species'].to_numpy()"
   ]
  },
  {
   "cell_type": "code",
   "execution_count": 3,
   "id": "832ab941",
   "metadata": {},
   "outputs": [],
   "source": [
    "from sklearn.model_selection import train_test_split\n",
    "\n",
    "trainInput, testInput, trainTarget, testTarget = train_test_split(fishInput, fishTarget, random_state=42)"
   ]
  },
  {
   "cell_type": "code",
   "execution_count": 5,
   "id": "9ec13102",
   "metadata": {},
   "outputs": [
    {
     "data": {
      "text/plain": [
       "array([[ 9.19657820e-01,  6.09431747e-01,  8.10412209e-01,\n",
       "         1.85194896e+00,  1.00075672e+00],\n",
       "       [ 3.00412188e-01,  1.54653445e+00,  1.45316551e+00,\n",
       "        -4.69816625e-01,  2.72917446e-01],\n",
       "       [-1.08585360e+00, -1.68646987e+00, -1.70848587e+00,\n",
       "        -1.70159849e+00, -2.00447580e+00],\n",
       "       [-7.97341433e-01, -6.08801762e-01, -6.74869070e-01,\n",
       "        -8.24805885e-01, -2.76314705e-01],\n",
       "       [-7.12898847e-01, -7.30625113e-01, -7.00926637e-01,\n",
       "        -8.02298036e-02, -7.03386897e-01],\n",
       "       [-9.12746301e-01, -9.64900787e-01, -9.52816444e-01,\n",
       "        -8.80171862e-01, -9.91535662e-01],\n",
       "       [-7.97341433e-01, -7.02512032e-01, -7.61727625e-01,\n",
       "        -7.82824547e-01, -5.44530184e-01],\n",
       "       [ 6.38182533e-01,  5.62576612e-01,  7.32239510e-01,\n",
       "         1.64473401e+00,  5.07057367e-01],\n",
       "       [-7.41046376e-01, -6.74398951e-01, -7.35670058e-01,\n",
       "        -6.12059278e-01, -5.57331377e-01],\n",
       "       [-8.67710255e-01, -7.96222301e-01, -8.92015456e-01,\n",
       "        -9.33586942e-01, -1.02183182e+00],\n",
       "       [ 8.21141469e-01,  7.49997152e-01,  6.71438522e-01,\n",
       "         4.98470601e-01,  1.47257213e+00],\n",
       "       [ 3.00412188e-01,  2.34590667e-01,  4.28234570e-01,\n",
       "         1.36042157e+00,  2.23297582e-01],\n",
       "       [ 3.39818728e-01,  4.03269153e-01,  2.37145751e-01,\n",
       "         2.88316959e-01,  9.56866916e-01],\n",
       "       [-5.44013674e-01, -5.15091492e-01, -4.75094395e-01,\n",
       "         3.66303469e-01, -4.78329727e-01],\n",
       "       [ 1.70778862e+00,  1.45282418e+00,  1.33156354e+00,\n",
       "         8.95515284e-01,  1.91866324e+00],\n",
       "       [ 9.02769303e-01,  7.03142017e-01,  8.88584908e-01,\n",
       "         1.89027545e+00,  8.55371741e-01],\n",
       "       [-1.08247590e+00, -1.61150165e+00, -1.62162731e+00,\n",
       "        -1.70006740e+00, -1.92815631e+00],\n",
       "       [ 1.70778862e+00,  1.35911391e+00,  1.20996156e+00,\n",
       "         7.58211612e-01,  1.72445085e+00],\n",
       "       [-7.97341433e-01, -7.21254086e-01, -7.09612492e-01,\n",
       "        -6.65474358e-01, -6.41636379e-01],\n",
       "       [ 1.03379487e-01,  4.71701274e-02,  2.37145751e-01,\n",
       "         8.84451967e-01,  4.17997636e-01],\n",
       "       [ 1.76563061e-01,  1.31225877e+00,  1.23601913e+00,\n",
       "        -3.90792929e-01, -7.66770476e-02],\n",
       "       [ 1.49668216e+00,  1.03112796e+00,  1.21864741e+00,\n",
       "         2.44274986e+00,  1.40289707e+00],\n",
       "       [ 1.56705098e+00,  2.17439325e+00,  2.06986125e+00,\n",
       "         1.57345974e-02,  1.05025467e+00],\n",
       "       [-4.03276031e-01, -9.33952774e-02, -2.05832877e-01,\n",
       "        -3.90101472e-01,  7.18777527e-02],\n",
       "       [-6.28456261e-01, -7.30625113e-01, -7.00926637e-01,\n",
       "         1.31751261e-01, -6.32675543e-01],\n",
       "       [ 2.30043366e-01,  2.34590667e-01,  4.28234570e-01,\n",
       "         1.33360290e+00,  3.99832133e-01],\n",
       "       [-6.98825082e-01, -5.43204573e-01, -6.14068082e-01,\n",
       "        -7.18444929e-01, -4.98811636e-01],\n",
       "       [-2.62538387e-01,  8.24965367e-01,  7.40925366e-01,\n",
       "        -6.35667608e-01, -2.61197105e-01],\n",
       "       [-4.25794054e-01, -2.90186844e-01, -1.10288467e-01,\n",
       "         6.56271044e-01, -2.61075189e-01],\n",
       "       [ 7.22625119e-01,  9.84272826e-01,  8.79899053e-01,\n",
       "         5.61590778e-01,  9.47723207e-01],\n",
       "       [-7.69193904e-01, -8.89932571e-01, -8.65957890e-01,\n",
       "        -1.16136195e-01, -9.32772089e-01],\n",
       "       [-6.98825082e-01, -6.08801762e-01, -6.05382227e-01,\n",
       "        -5.50346711e-01, -5.48919164e-01],\n",
       "       [-7.55120140e-01, -7.02512032e-01, -7.61727625e-01,\n",
       "        -7.82824547e-01, -4.75952362e-01],\n",
       "       [ 1.28557569e+00,  7.03142017e-01,  8.97270764e-01,\n",
       "         1.98228866e+00,  1.06683526e+00],\n",
       "       [-1.10696425e+00, -7.49367167e-01, -7.35670058e-01,\n",
       "        -5.89537525e-01, -6.68518884e-01],\n",
       "       [ 1.25742816e+00,  6.09431747e-01,  5.23778980e-01,\n",
       "         6.48467454e-01,  2.04051841e+00],\n",
       "       [ 9.33731584e-01,  6.09431747e-01,  8.36469776e-01,\n",
       "         1.85150445e+00,  9.78324154e-01],\n",
       "       [ 8.07067705e-01,  6.09431747e-01,  8.10412209e-01,\n",
       "         1.63137406e+00,  1.02550570e+00],\n",
       "       [ 8.35215234e-01,  7.96852286e-01,  6.97496089e-01,\n",
       "         4.22089260e-01,  1.16936672e+00],\n",
       "       [-8.81784019e-01, -8.89932571e-01, -9.61502300e-01,\n",
       "        -7.96826558e-01, -8.52246487e-01],\n",
       "       [-7.69193904e-01, -7.96222301e-01, -7.87785191e-01,\n",
       "        -6.53546719e-01, -5.32826236e-01],\n",
       "       [ 3.39664035e+00,  2.95218849e+00,  2.84290238e+00,\n",
       "         1.82128867e-01,  1.03367408e+00],\n",
       "       [-3.61054738e-01, -9.33952774e-02, -2.05832877e-01,\n",
       "        -4.47196092e-01, -6.90572897e-02],\n",
       "       [-1.07262426e+00, -1.52716241e+00, -1.55214047e+00,\n",
       "        -1.67235972e+00, -1.86207776e+00],\n",
       "       [-1.35874508e-01,  9.37417691e-01,  8.45155631e-01,\n",
       "        -6.09095890e-01, -2.87287156e-01],\n",
       "       [-6.56603789e-01, -5.61946627e-01, -5.44581239e-01,\n",
       "        -6.08108094e-01, -3.95182929e-01],\n",
       "       [ 1.28557569e+00,  1.07798310e+00,  9.58071752e-01,\n",
       "         7.57174426e-01,  1.62033448e+00],\n",
       "       [-9.52152841e-01, -1.29288673e+00, -1.28287895e+00,\n",
       "        -4.97598394e-01, -1.29339999e+00],\n",
       "       [-1.01689216e+00, -1.38659700e+00, -1.43922435e+00,\n",
       "        -1.31734577e+00, -1.49291573e+00],\n",
       "       [ 1.63741980e+00,  1.17169337e+00,  1.27076255e+00,\n",
       "         2.41341232e+00,  1.40143407e+00],\n",
       "       [-2.06243329e-01,  1.40880397e-01,  2.86852201e-02,\n",
       "        -3.07916828e-01,  1.97085615e-01],\n",
       "       [-1.07966115e+00, -1.63961473e+00, -1.67374245e+00,\n",
       "        -1.64628190e+00, -1.87036806e+00],\n",
       "       [ 1.98926391e+00,  1.26540364e+00,  1.15784643e+00,\n",
       "         9.72415218e-01,  1.47525429e+00],\n",
       "       [-9.38079077e-01, -1.21791852e+00, -1.20470625e+00,\n",
       "        -5.64348722e-01, -1.30089783e+00],\n",
       "       [-1.05151362e+00, -1.33037084e+00, -1.39579507e+00,\n",
       "        -1.47914678e+00, -1.45146425e+00],\n",
       "       [-6.98825082e-01, -4.21381222e-01, -5.01151962e-01,\n",
       "        -6.14281820e-01, -3.79943413e-01],\n",
       "       [-5.52457933e-01, -2.71444790e-01, -3.70864130e-01,\n",
       "        -5.68349296e-01, -1.27577031e-01],\n",
       "       [-3.41351467e-01, -1.40250412e-01, -5.81733343e-02,\n",
       "        -7.27225524e-02,  1.98304776e-01],\n",
       "       [ 1.59674544e-01,  1.12767316e-01,  2.97946739e-01,\n",
       "         1.17051775e+00,  2.92058277e-01],\n",
       "       [ 8.63362763e-01,  7.96852286e-01,  7.06181944e-01,\n",
       "         4.87110945e-01,  1.10718950e+00],\n",
       "       [ 1.20113311e+00,  1.07798310e+00,  9.75443463e-01,\n",
       "         5.61195660e-01,  1.32993026e+00],\n",
       "       [-6.53789036e-01, -4.77607384e-01, -3.96921696e-01,\n",
       "        -4.80855248e-01, -4.98080139e-01],\n",
       "       [-9.94374134e-01, -1.34911289e+00, -1.30893652e+00,\n",
       "        -1.16443491e+00, -1.32906046e+00],\n",
       "       [-8.67710255e-01, -8.33706409e-01, -9.09387167e-01,\n",
       "        -9.19856575e-01, -8.60414868e-01],\n",
       "       [-8.25488962e-01, -9.83642841e-01, -1.04836085e+00,\n",
       "        -8.98915295e-01, -6.86806303e-01],\n",
       "       [ 1.56705098e+00,  1.17169337e+00,  1.32287768e+00,\n",
       "         2.16352457e+00,  1.17174409e+00],\n",
       "       [-7.12898847e-01, -5.61946627e-01, -5.44581239e-01,\n",
       "        -5.71065736e-01, -6.84733729e-01],\n",
       "       [-9.21062831e-03,  1.40880397e-01,  3.24004305e-01,\n",
       "         9.40262452e-01,  1.47343835e-01],\n",
       "       [-6.84751318e-01, -6.08801762e-01, -5.70638805e-01,\n",
       "        -7.55166253e-01, -4.22979805e-01],\n",
       "       [-3.38536715e-01, -3.27670952e-01, -2.84005576e-01,\n",
       "         5.49589054e-01, -1.85487191e-01],\n",
       "       [ 1.42631334e+00,  1.07798310e+00,  9.75443463e-01,\n",
       "         7.08130345e-01,  1.69263074e+00],\n",
       "       [ 4.58038349e-01,  5.62576612e-01,  4.54292136e-01,\n",
       "         3.44250919e-01,  1.18210696e+00],\n",
       "       [-7.41046376e-01, -5.61946627e-01, -6.31439793e-01,\n",
       "        -7.42448377e-01, -5.02469120e-01],\n",
       "       [-7.83267669e-01, -7.02512032e-01, -7.61727625e-01,\n",
       "        -7.27261010e-01, -6.95401390e-01],\n",
       "       [ 3.25590271e+00,  2.95218849e+00,  2.84290238e+00,\n",
       "         1.82128867e-01,  1.03367408e+00],\n",
       "       [ 3.53737799e+00,  3.27080341e+00,  3.19033660e+00,\n",
       "         4.81431116e-01,  1.84807380e+00],\n",
       "       [-7.26972611e-01, -6.08801762e-01, -6.74869070e-01,\n",
       "        -7.37756345e-01, -5.62817603e-01],\n",
       "       [ 1.59674544e-01,  1.40880397e-01,  3.32690160e-01,\n",
       "         1.26991474e+00,  2.41097337e-01],\n",
       "       [ 8.63362763e-01,  7.03142017e-01,  6.10637534e-01,\n",
       "         4.31325154e-01,  1.39747180e+00],\n",
       "       [-1.49948272e-01,  3.28300937e-01,  5.23778980e-01,\n",
       "         1.24719543e+00,  3.80691302e-01],\n",
       "       [ 1.14483805e+00,  7.40626125e-01,  7.23553655e-01,\n",
       "         7.15835155e-01,  1.29554992e+00],\n",
       "       [ 4.13002303e-01,  1.35911391e+00,  1.26207669e+00,\n",
       "        -2.65836710e-01,  4.15315481e-01],\n",
       "       [-8.52089559e-02,  4.71701274e-02,  1.93716473e-01,\n",
       "         9.55079395e-01,  4.39717660e-03],\n",
       "       [ 8.63362763e-01,  4.22011207e-01,  6.28009245e-01,\n",
       "         1.50034290e+00,  4.56706006e-01],\n",
       "       [-8.62080749e-01, -8.14964355e-01, -7.87785191e-01,\n",
       "        -8.01567980e-01, -7.76414657e-01],\n",
       "       [-1.09035721e+00, -1.88326143e+00, -1.95168982e+00,\n",
       "        -1.66702562e+00, -1.85329980e+00],\n",
       "       [ 1.06039546e+00,  1.82766526e+00,  1.73111289e+00,\n",
       "        -2.92013309e-01,  5.65516150e-01],\n",
       "       [ 3.00412188e-01,  1.12767316e-01,  2.80575028e-01,\n",
       "         1.31303204e+00,  5.06082038e-01],\n",
       "       [ 1.03379487e-01,  8.90562556e-01,  8.01726354e-01,\n",
       "        -3.88323439e-01,  7.81564332e-02],\n",
       "       [-8.53636490e-01, -1.01175592e+00, -9.96245722e-01,\n",
       "        -3.59874908e-01, -1.08218030e+00],\n",
       "       [-9.21062831e-03,  3.00187856e-01,  3.24004305e-01,\n",
       "         1.53729727e-01,  5.52714956e-01],\n",
       "       [-2.62538387e-01,  1.90570465e-02, -1.01602612e-01,\n",
       "        -3.15424079e-01,  1.14060733e-01],\n",
       "       [-5.44013674e-01, -4.68236357e-01, -3.88235841e-01,\n",
       "        -3.61949280e-01, -1.95728145e-01],\n",
       "       [-1.07262426e+00, -1.45219419e+00, -1.51739705e+00,\n",
       "        -1.62627903e+00, -1.94607798e+00],\n",
       "       [ 4.13002303e-01,  2.34590667e-01,  2.37145751e-01,\n",
       "         4.64638581e-01,  1.28847878e+00],\n",
       "       [-6.31271013e-01, -4.21381222e-01, -3.53492419e-01,\n",
       "        -3.27969091e-01, -3.73725690e-01],\n",
       "       [-7.41046376e-01, -6.08801762e-01, -6.74869070e-01,\n",
       "        -6.79723318e-01, -5.62817603e-01],\n",
       "       [ 8.21141469e-01,  5.15721477e-01,  6.88810233e-01,\n",
       "         1.76102232e+00,  5.62102498e-01],\n",
       "       [-2.45649870e-01, -4.65401424e-02, -4.08016234e-02,\n",
       "        -2.08632519e-02,  1.42223358e-01],\n",
       "       [-1.07937967e+00, -1.54590446e+00, -1.56951218e+00,\n",
       "        -1.64420753e+00, -2.01154694e+00],\n",
       "       [-2.62538387e-01,  5.15721477e-01,  5.67208257e-01,\n",
       "        -7.79046226e-01, -1.76953062e-01],\n",
       "       [-8.87413525e-01, -9.08674625e-01, -8.74643745e-01,\n",
       "        -8.11692891e-01, -9.41123344e-01],\n",
       "       [-1.07937967e+00, -1.62087268e+00, -1.63899902e+00,\n",
       "        -1.67413775e+00, -1.93303295e+00],\n",
       "       [-2.90685916e-01, -2.05847601e-01, -6.05820169e-03,\n",
       "         8.93342132e-01, -8.69789603e-02],\n",
       "       [-2.90685916e-01, -2.33960682e-01, -1.79775310e-01,\n",
       "         3.53531430e-03,  2.95728568e-02],\n",
       "       [-2.62538387e-01,  6.09431747e-01,  6.54066812e-01,\n",
       "        -7.22593673e-01, -3.89440064e-02],\n",
       "       [-3.75128502e-01, -9.33952774e-02, -2.05832877e-01,\n",
       "        -4.18648782e-01, -6.90572897e-02],\n",
       "       [-6.00308732e-01, -3.27670952e-01, -4.14293407e-01,\n",
       "        -5.98353606e-01, -4.66199072e-01],\n",
       "       [ 1.42631334e+00,  9.84272826e-01,  8.79899053e-01,\n",
       "         5.61590778e-01,  1.85624218e+00],\n",
       "       [-7.69193904e-01, -6.08801762e-01, -6.74869070e-01,\n",
       "        -7.95789372e-01, -5.62817603e-01],\n",
       "       [-9.94374134e-01, -1.26477365e+00, -1.32630823e+00,\n",
       "        -1.24424885e+00, -1.22908923e+00],\n",
       "       [ 1.75000992e+00,  1.07798310e+00,  9.66757607e-01,\n",
       "         8.68844787e-01,  1.83734518e+00],\n",
       "       [-1.05095067e+00, -1.26477365e+00, -1.30893652e+00,\n",
       "        -1.46447801e+00, -1.56606541e+00],\n",
       "       [ 5.11518653e-01,  5.15721477e-01,  7.14867800e-01,\n",
       "         1.54738669e+00,  6.83470002e-01],\n",
       "       [-2.62538387e-01, -2.33960682e-01, -1.97147021e-01,\n",
       "         6.18734788e-01, -1.30624934e-01],\n",
       "       [-4.03276031e-01, -4.65401424e-02, -1.62403600e-01,\n",
       "        -2.57341662e-01, -1.48790437e-01],\n",
       "       [ 5.81887475e-01,  3.28300937e-01,  5.15093125e-01,\n",
       "         1.50439286e+00,  4.40430204e-01],\n",
       "       [-6.84751318e-01, -5.61946627e-01, -6.31439793e-01,\n",
       "        -5.11304066e-01, -5.02469120e-01],\n",
       "       [-2.62538387e-01, -1.12137331e-01, -2.23204588e-01,\n",
       "        -1.33225070e-01,  4.20009252e-01]])"
      ]
     },
     "execution_count": 5,
     "metadata": {},
     "output_type": "execute_result"
    }
   ],
   "source": [
    "from sklearn.preprocessing import StandardScaler\n",
    "\n",
    "ss = StandardScaler()\n",
    "ss.fit(trainInput)\n",
    "trainScaled = ss.transform(trainInput)\n",
    "testScaled = ss.transform(testInput)\n",
    "trainScaled"
   ]
  },
  {
   "cell_type": "code",
   "execution_count": 7,
   "id": "9316c7db",
   "metadata": {},
   "outputs": [
    {
     "name": "stdout",
     "output_type": "stream",
     "text": [
      "0.773109243697479\n",
      "0.775\n"
     ]
    },
    {
     "name": "stderr",
     "output_type": "stream",
     "text": [
      "C:\\Users\\lotco\\.conda\\envs\\tf36\\lib\\site-packages\\sklearn\\linear_model\\_stochastic_gradient.py:577: ConvergenceWarning: Maximum number of iteration reached before convergence. Consider increasing max_iter to improve the fit.\n",
      "  ConvergenceWarning)\n"
     ]
    }
   ],
   "source": [
    "from sklearn.linear_model import SGDClassifier\n",
    "\n",
    "sc = SGDClassifier(loss='log', max_iter=10, random_state=42)\n",
    "sc.fit(trainScaled, trainTarget)\n",
    "print(sc.score(trainScaled, trainTarget))\n",
    "print(sc.score(testScaled, testTarget))\n"
   ]
  },
  {
   "cell_type": "code",
   "execution_count": 8,
   "id": "0c9d24ea",
   "metadata": {},
   "outputs": [
    {
     "name": "stdout",
     "output_type": "stream",
     "text": [
      "0.8151260504201681\n",
      "0.825\n"
     ]
    }
   ],
   "source": [
    "#기존 모델에 추가 학습\n",
    "\n",
    "sc.partial_fit(trainScaled, trainTarget)\n",
    "print(sc.score(trainScaled, trainTarget))\n",
    "print(sc.score(testScaled, testTarget))\n"
   ]
  },
  {
   "cell_type": "code",
   "execution_count": 9,
   "id": "dd310936",
   "metadata": {
    "scrolled": true
   },
   "outputs": [
    {
     "data": {
      "image/png": "[encoded data removed]",
      "text/plain": [
       "<Figure size 432x288 with 1 Axes>"
      ]
     },
     "metadata": {
      "needs_background": "light"
     },
     "output_type": "display_data"
    }
   ],
   "source": [
    "import numpy as np\n",
    "sc = SGDClassifier(loss='log', random_state=42)\n",
    "trainScore = []\n",
    "testScore= []\n",
    "classes = np.unique(trainTarget)\n",
    "\n",
    "for _ in range(0, 300):\n",
    "    sc.partial_fit(trainScaled, trainTarget, classes=classes)\n",
    "    trainScore.append(sc.score(trainScaled, trainTarget))\n",
    "    testScore.append(sc.score(testScaled, testTarget))\n",
    "    \n",
    "import matplotlib.pyplot as plt\n",
    "plt.plot(trainScore)\n",
    "plt.plot(testScore)\n",
    "plt.xlabel('epoch')\n",
    "plt.ylabel('acc')\n",
    "plt.show()"
   ]
  },
  {
   "cell_type": "code",
   "execution_count": 11,
   "id": "16ef091a",
   "metadata": {},
   "outputs": [
    {
     "name": "stdout",
     "output_type": "stream",
     "text": [
      "0.957983193277311\n",
      "0.925\n"
     ]
    }
   ],
   "source": [
    "sc = SGDClassifier(loss='log', max_iter=100, tol=None, random_state=42)\n",
    "sc.fit(trainScaled, trainTarget)\n",
    "print(sc.score(trainScaled, trainTarget))\n",
    "print(sc.score(testScaled, testTarget))\n"
   ]
  }
 ],
 "metadata": {
  "kernelspec": {
   "display_name": "Python 3",
   "language": "python",
   "name": "python3"
  },
  "language_info": {
   "codemirror_mode": {
    "name": "ipython",
    "version": 3
   },
   "file_extension": ".py",
   "mimetype": "text/x-python",
   "name": "python",
   "nbconvert_exporter": "python",
   "pygments_lexer": "ipython3",
   "version": "3.6.13"
  }
 },
 "nbformat": 4,
 "nbformat_minor": 5
}
