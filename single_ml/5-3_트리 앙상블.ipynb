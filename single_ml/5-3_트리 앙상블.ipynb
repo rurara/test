{
 "cells": [
  {
   "cell_type": "code",
   "execution_count": 5,
   "id": "5b609fdd",
   "metadata": {},
   "outputs": [
    {
     "name": "stdout",
     "output_type": "stream",
     "text": [
      "[[10.5   7.7   3.19]\n",
      " [12.4   2.1   3.26]\n",
      " [11.8   2.1   3.41]\n",
      " [11.7   1.2   3.37]\n",
      " [ 9.3  15.4   3.11]]\n",
      "[1. 0. 0. 1. 1.]\n"
     ]
    }
   ],
   "source": [
    "import numpy as np\n",
    "import pandas as pd\n",
    "from sklearn.model_selection import train_test_split\n",
    "\n",
    "wine = pd.read_csv('hg-mldl-master/wine.csv')\n",
    "data = wine[['alcohol', 'sugar', 'pH']].to_numpy()\n",
    "target = wine['class'].to_numpy()\n",
    "trainInput, testIntput, trainTarget, testTarget = train_test_split(data, target, test_size=0.2, random_state=42)\n",
    "print(trainInput[:5])\n",
    "print(trainTarget[:5])"
   ]
  },
  {
   "cell_type": "code",
   "execution_count": 6,
   "id": "c2e624a6",
   "metadata": {},
   "outputs": [
    {
     "data": {
      "text/plain": [
       "{'fit_time': array([0.29799843, 0.31499863, 0.40499735, 0.30399919, 0.26299977]),\n",
       " 'score_time': array([0.10899997, 0.12600112, 0.10899878, 0.10999942, 0.112149  ]),\n",
       " 'test_score': array([0.88461538, 0.88942308, 0.90279115, 0.88931665, 0.88642926]),\n",
       " 'train_score': array([0.9971133 , 0.99663219, 0.9978355 , 0.9973545 , 0.9978355 ])}"
      ]
     },
     "execution_count": 6,
     "metadata": {},
     "output_type": "execute_result"
    }
   ],
   "source": [
    "from sklearn.model_selection import cross_validate\n",
    "from sklearn.ensemble import RandomForestClassifier\n",
    "rf = RandomForestClassifier(n_jobs= -1, random_state=42)\n",
    "scores = cross_validate(rf, trainInput, trainTarget, return_train_score=True, n_jobs=-1)\n"
   ]
  },
  {
   "cell_type": "code",
   "execution_count": 8,
   "id": "c8b8a65a",
   "metadata": {},
   "outputs": [
    {
     "name": "stdout",
     "output_type": "stream",
     "text": [
      "0.9973541965122431\n",
      "0.8905151032797809\n"
     ]
    },
    {
     "data": {
      "text/plain": [
       "{'fit_time': array([0.29799843, 0.31499863, 0.40499735, 0.30399919, 0.26299977]),\n",
       " 'score_time': array([0.10899997, 0.12600112, 0.10899878, 0.10999942, 0.112149  ]),\n",
       " 'test_score': array([0.88461538, 0.88942308, 0.90279115, 0.88931665, 0.88642926]),\n",
       " 'train_score': array([0.9971133 , 0.99663219, 0.9978355 , 0.9973545 , 0.9978355 ])}"
      ]
     },
     "execution_count": 8,
     "metadata": {},
     "output_type": "execute_result"
    }
   ],
   "source": [
    "print(np.mean(scores['train_score']))\n",
    "print(np.mean(scores['test_score']))\n",
    "scores\n"
   ]
  },
  {
   "cell_type": "code",
   "execution_count": 9,
   "id": "0c69ae1b",
   "metadata": {},
   "outputs": [
    {
     "data": {
      "text/plain": [
       "array([0.23167441, 0.50039841, 0.26792718])"
      ]
     },
     "execution_count": 9,
     "metadata": {},
     "output_type": "execute_result"
    }
   ],
   "source": [
    "rf.fit(trainInput, trainTarget)\n",
    "rf.feature_importances_"
   ]
  },
  {
   "cell_type": "code",
   "execution_count": 13,
   "id": "d67acf26",
   "metadata": {},
   "outputs": [
    {
     "name": "stdout",
     "output_type": "stream",
     "text": [
      "False\n"
     ]
    }
   ],
   "source": [
    "rf = RandomForestClassifier(oob_score=False, n_jobs=-1, random_state=42)\n",
    "rf.fit(trainInput, trainTarget)\n",
    "# print(rf.oob_score_)\n",
    "print(rf.oob_score)"
   ]
  },
  {
   "cell_type": "code",
   "execution_count": 11,
   "id": "3b767929",
   "metadata": {},
   "outputs": [
    {
     "name": "stdout",
     "output_type": "stream",
     "text": [
      "0.8934000384837406\n",
      "True\n"
     ]
    }
   ],
   "source": [
    "rf = RandomForestClassifier(oob_score=True, n_jobs=-1, random_state=42)\n",
    "rf.fit(trainInput, trainTarget)\n",
    "print(rf.oob_score_)\n",
    "print(rf.oob_score)"
   ]
  },
  {
   "cell_type": "code",
   "execution_count": 14,
   "id": "9067ef43",
   "metadata": {},
   "outputs": [
    {
     "name": "stdout",
     "output_type": "stream",
     "text": [
      "0.9974503966084433\n",
      "0.8887848893166506\n"
     ]
    },
    {
     "data": {
      "text/plain": [
       "{'fit_time': array([0.31000042, 0.3750155 , 0.29099917, 0.3900075 , 0.28003788]),\n",
       " 'score_time': array([0.11801624, 0.11499643, 0.13901281, 0.11200309, 0.11004639]),\n",
       " 'test_score': array([0.88365385, 0.87884615, 0.90375361, 0.88835419, 0.88931665]),\n",
       " 'train_score': array([0.9971133 , 0.99663219, 0.998076  , 0.997595  , 0.9978355 ])}"
      ]
     },
     "execution_count": 14,
     "metadata": {},
     "output_type": "execute_result"
    }
   ],
   "source": [
    "from sklearn.ensemble import ExtraTreesClassifier\n",
    "et = ExtraTreesClassifier(n_jobs=-1, random_state=42)\n",
    "scores = cross_validate(et, trainInput, trainTarget, return_train_score=True, n_jobs=-1)\n",
    "\n",
    "\n",
    "print(np.mean(scores['train_score']))\n",
    "print(np.mean(scores['test_score']))\n",
    "scores\n",
    "\n",
    "#엑스트라 무작위성이 큼, 훈련양이 많음 속도가 빠름 \n",
    "#포레스트"
   ]
  },
  {
   "cell_type": "code",
   "execution_count": 15,
   "id": "da4ba88d",
   "metadata": {},
   "outputs": [
    {
     "data": {
      "text/plain": [
       "array([0.20183568, 0.52242907, 0.27573525])"
      ]
     },
     "execution_count": 15,
     "metadata": {},
     "output_type": "execute_result"
    }
   ],
   "source": [
    "et.fit(trainInput, trainTarget)\n",
    "et.feature_importances_"
   ]
  },
  {
   "cell_type": "code",
   "execution_count": 16,
   "id": "eb797a9b",
   "metadata": {},
   "outputs": [
    {
     "name": "stdout",
     "output_type": "stream",
     "text": [
      "0.8881086892152563\n",
      "0.8720430147331015\n"
     ]
    },
    {
     "data": {
      "text/plain": [
       "{'fit_time': array([0.24899769, 0.2489996 , 0.25899911, 0.25999975, 0.23799968]),\n",
       " 'score_time': array([0.00199866, 0.00199938, 0.00299931, 0.00300193, 0.00199938]),\n",
       " 'test_score': array([0.86634615, 0.87019231, 0.89412897, 0.86044273, 0.86910491]),\n",
       " 'train_score': array([0.89006495, 0.88958383, 0.88239538, 0.89249639, 0.88600289])}"
      ]
     },
     "execution_count": 16,
     "metadata": {},
     "output_type": "execute_result"
    }
   ],
   "source": [
    "#그레디언트 부스팅->경사 하강법\n",
    "\n",
    "from sklearn.ensemble import GradientBoostingClassifier\n",
    "\n",
    "gb = GradientBoostingClassifier(random_state=42)\n",
    "    scores = cross_validate(gb, trainInput, trainTarget, return_train_score=True, n_jobs=-1)\n",
    "print(np.mean(scores['train_score']))\n",
    "print(np.mean(scores['test_score']))\n",
    "scores\n"
   ]
  },
  {
   "cell_type": "code",
   "execution_count": 17,
   "id": "84923046",
   "metadata": {},
   "outputs": [
    {
     "name": "stdout",
     "output_type": "stream",
     "text": [
      "0.9464595437171814\n",
      "0.8780082549788999\n"
     ]
    },
    {
     "data": {
      "text/plain": [
       "{'fit_time': array([1.24199629, 1.24999738, 1.26199389, 1.27299905, 1.2009995 ]),\n",
       " 'score_time': array([0.01000166, 0.00699949, 0.01300097, 0.0079999 , 0.00699949]),\n",
       " 'test_score': array([0.875     , 0.87211538, 0.89701636, 0.8719923 , 0.87391723]),\n",
       " 'train_score': array([0.9494828 , 0.94443108, 0.94468494, 0.94324194, 0.95045695])}"
      ]
     },
     "execution_count": 17,
     "metadata": {},
     "output_type": "execute_result"
    }
   ],
   "source": [
    "#n_estimators 결정트리\n",
    "#n_estimators\n",
    "gb = GradientBoostingClassifier(n_estimators=500, learning_rate=0.2, random_state=42)\n",
    "scores = cross_validate(gb, trainInput, trainTarget, return_train_score=True, n_jobs=-1)\n",
    "print(np.mean(scores['train_score']))\n",
    "print(np.mean(scores['test_score']))\n",
    "scores"
   ]
  },
  {
   "cell_type": "code",
   "execution_count": 19,
   "id": "f4258ae9",
   "metadata": {},
   "outputs": [
    {
     "data": {
      "text/plain": [
       "array([0.15872278, 0.68011572, 0.16116151])"
      ]
     },
     "execution_count": 19,
     "metadata": {},
     "output_type": "execute_result"
    }
   ],
   "source": [
    "gb.fit(trainInput, trainTarget)\n",
    "gb.feature_importances_"
   ]
  },
  {
   "cell_type": "code",
   "execution_count": 20,
   "id": "dd93dfd2",
   "metadata": {},
   "outputs": [
    {
     "name": "stdout",
     "output_type": "stream",
     "text": [
      "0.9321723946453317\n",
      "0.8801241948619236\n"
     ]
    },
    {
     "data": {
      "text/plain": [
       "{'fit_time': array([0.35199976, 0.34300017, 0.41300011, 0.34800029, 0.34400034]),\n",
       " 'score_time': array([0.00599909, 0.00500011, 0.00599957, 0.0059998 , 0.0059998 ]),\n",
       " 'test_score': array([0.87115385, 0.88365385, 0.90279115, 0.86621752, 0.87680462]),\n",
       " 'train_score': array([0.93192206, 0.93216262, 0.92857143, 0.93265993, 0.93554594])}"
      ]
     },
     "execution_count": 20,
     "metadata": {},
     "output_type": "execute_result"
    }
   ],
   "source": [
    "#히그토그램 기반\n",
    "from sklearn.experimental import enable_hist_gradient_boosting\n",
    "from sklearn.ensemble import HistGradientBoostingClassifier\n",
    "hgb = HistGradientBoostingClassifier(random_state=42)\n",
    "scores = cross_validate(hgb, trainInput, trainTarget, return_train_score=True)\n",
    "print(np.mean(scores['train_score']))\n",
    "print(np.mean(scores['test_score']))\n",
    "scores\n"
   ]
  },
  {
   "cell_type": "code",
   "execution_count": 24,
   "id": "4de85b87",
   "metadata": {},
   "outputs": [
    {
     "data": {
      "text/plain": [
       "{'importances_mean': array([0.08876275, 0.23438522, 0.08027708]),\n",
       " 'importances_std': array([0.00382333, 0.00401363, 0.00477012]),\n",
       " 'importances': array([[0.08793535, 0.08350972, 0.08908986, 0.08312488, 0.09274581,\n",
       "         0.08755051, 0.08601116, 0.09601693, 0.09082163, 0.09082163],\n",
       "        [0.22782374, 0.23590533, 0.23936887, 0.23436598, 0.23725226,\n",
       "         0.23436598, 0.23359631, 0.23398114, 0.23994612, 0.22724649],\n",
       "        [0.08581874, 0.08601116, 0.08062344, 0.07504329, 0.08427939,\n",
       "         0.07792957, 0.07234943, 0.07465846, 0.08139311, 0.08466423]])}"
      ]
     },
     "execution_count": 24,
     "metadata": {},
     "output_type": "execute_result"
    }
   ],
   "source": [
    "from sklearn.inspection import permutation_importance\n",
    "\n",
    "hgb.fit(trainInput, trainTarget)\n",
    "result = permutation_importance(hgb, trainInput, trainTarget, n_repeats=10, random_state=42, n_jobs=-1)\n",
    "\n",
    "result"
   ]
  },
  {
   "cell_type": "code",
   "execution_count": 25,
   "id": "a81773d3",
   "metadata": {},
   "outputs": [
    {
     "data": {
      "text/plain": [
       "{'importances_mean': array([0.05969231, 0.20238462, 0.049     ]),\n",
       " 'importances_std': array([0.004     , 0.007938  , 0.00453846]),\n",
       " 'importances': array([[0.06230769, 0.05769231, 0.05538462, 0.05538462, 0.06076923,\n",
       "         0.06076923, 0.06846154, 0.06230769, 0.05461538, 0.05923077],\n",
       "        [0.20076923, 0.2       , 0.21153846, 0.20076923, 0.20307692,\n",
       "         0.18923077, 0.19615385, 0.19461538, 0.21384615, 0.21384615],\n",
       "        [0.05692308, 0.04692308, 0.05076923, 0.04769231, 0.04692308,\n",
       "         0.05      , 0.04384615, 0.04692308, 0.04307692, 0.05692308]])}"
      ]
     },
     "execution_count": 25,
     "metadata": {},
     "output_type": "execute_result"
    }
   ],
   "source": [
    "result = permutation_importance(hgb, testIntput, testTarget, n_repeats=10, random_state=42, n_jobs=-1)\n",
    "result"
   ]
  },
  {
   "cell_type": "code",
   "execution_count": 26,
   "id": "2a57aeaf",
   "metadata": {},
   "outputs": [
    {
     "data": {
      "text/plain": [
       "0.8723076923076923"
      ]
     },
     "execution_count": 26,
     "metadata": {},
     "output_type": "execute_result"
    }
   ],
   "source": [
    "hgb.score(testIntput, testTarget)"
   ]
  },
  {
   "cell_type": "code",
   "execution_count": 32,
   "id": "17d7ee66",
   "metadata": {},
   "outputs": [
    {
     "name": "stdout",
     "output_type": "stream",
     "text": [
      "0.9555033709953124\n",
      "0.8799326275264677\n"
     ]
    },
    {
     "data": {
      "text/plain": [
       "{'fit_time': array([0.07899785, 0.06800079, 0.06800079, 0.0679996 , 0.06899905]),\n",
       " 'score_time': array([0.00300002, 0.00299978, 0.00200009, 0.00200009, 0.00200081]),\n",
       " 'test_score': array([0.8625    , 0.8875    , 0.89797883, 0.87969201, 0.8719923 ]),\n",
       " 'train_score': array([0.95814289, 0.9569401 , 0.95526696, 0.95286195, 0.95430495])}"
      ]
     },
     "execution_count": 32,
     "metadata": {},
     "output_type": "execute_result"
    }
   ],
   "source": [
    "#C:\\Users\\lotco\\.conda\\envs\\tf36\\lib\\site-packages\\xgboost\\sklearn.py:1224: UserWarning: The use of label encoder in XGBClassifier is deprecated and will be removed in a future release. To remove this warning, do the following: 1) Pass option use_label_encoder=False when constructing XGBClassifier object; and 2) Encode your labels (y) as integers starting with 0, i.e. 0, 1, 2, ..., [num_class - 1].\n",
    "#  warnings.warn(label_encoder_deprecation_msg, UserWarning)\n",
    "#C:\\Users\\lotco\\.conda\\envs\\tf36\\lib\\site-packages\\xgboost\\sklearn.py:1224: UserWarning: The use of label encoder in XGBClassifier is deprecated and will be removed in a future release. To remove this warning, do the following: 1) Pass option use_label_encoder=False when constructing XGBClassifier object; and 2) Encode your labels (y) as integers starting with 0, i.e. 0, 1, 2, ..., [num_class - 1].\n",
    "#  warnings.warn(label_encoder_deprecation_msg, UserWarning)\n",
    "#use_label_encoder=False, eval_metric='mlogloss'\n",
    "#https://stackoverflow.com/questions/66097701/how-can-i-fix-this-warning-in-xgboost\n",
    "\n",
    "\n",
    "from xgboost import XGBClassifier\n",
    "xgb = XGBClassifier(tree_method='hist', random_state=42, use_label_encoder=False, eval_metric='mlogloss' )\n",
    "scores = cross_validate(xgb, trainInput, trainTarget, return_train_score=True)\n",
    "print(np.mean(scores['train_score']))\n",
    "print(np.mean(scores['test_score']))\n",
    "scores\n"
   ]
  },
  {
   "cell_type": "code",
   "execution_count": 33,
   "id": "f05867b2",
   "metadata": {},
   "outputs": [
    {
     "data": {
      "text/plain": [
       "{'importances_mean': array([0.05969231, 0.20238462, 0.049     ]),\n",
       " 'importances_std': array([0.004     , 0.007938  , 0.00453846]),\n",
       " 'importances': array([[0.06230769, 0.05769231, 0.05538462, 0.05538462, 0.06076923,\n",
       "         0.06076923, 0.06846154, 0.06230769, 0.05461538, 0.05923077],\n",
       "        [0.20076923, 0.2       , 0.21153846, 0.20076923, 0.20307692,\n",
       "         0.18923077, 0.19615385, 0.19461538, 0.21384615, 0.21384615],\n",
       "        [0.05692308, 0.04692308, 0.05076923, 0.04769231, 0.04692308,\n",
       "         0.05      , 0.04384615, 0.04692308, 0.04307692, 0.05692308]])}"
      ]
     },
     "execution_count": 33,
     "metadata": {},
     "output_type": "execute_result"
    }
   ],
   "source": [
    "results = permutation_importance(hgb, testIntput, testTarget, n_repeats=10, random_state=42, n_jobs=-1)\n",
    "result"
   ]
  },
  {
   "cell_type": "code",
   "execution_count": 34,
   "id": "7b5421b7",
   "metadata": {},
   "outputs": [
    {
     "data": {
      "text/plain": [
       "0.8723076923076923"
      ]
     },
     "execution_count": 34,
     "metadata": {},
     "output_type": "execute_result"
    }
   ],
   "source": [
    "hgb.score(testIntput, testTarget)"
   ]
  },
  {
   "cell_type": "code",
   "execution_count": 42,
   "id": "87ab19df",
   "metadata": {},
   "outputs": [],
   "source": [
    "from lightgbm import LGBMClassifier\n",
    "lgb=LGBMClassifier(random_state=42)\n",
    "scores = cross_validate(lgb, trainInput, trainTarget, return_train_score=True, n_jobs=-1)"
   ]
  }
 ],
 "metadata": {
  "kernelspec": {
   "display_name": "Python 3",
   "language": "python",
   "name": "python3"
  },
  "language_info": {
   "codemirror_mode": {
    "name": "ipython",
    "version": 3
   },
   "file_extension": ".py",
   "mimetype": "text/x-python",
   "name": "python",
   "nbconvert_exporter": "python",
   "pygments_lexer": "ipython3",
   "version": "3.6.13"
  }
 },
 "nbformat": 4,
 "nbformat_minor": 5
}
