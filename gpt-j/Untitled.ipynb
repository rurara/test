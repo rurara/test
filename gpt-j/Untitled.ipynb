{
 "cells": [
  {
   "cell_type": "code",
   "execution_count": 2,
   "id": "eda73852-234e-4d45-8836-936911c17ff5",
   "metadata": {},
   "outputs": [
    {
     "data": {
      "application/vnd.jupyter.widget-view+json": {
       "model_id": "f35ca86370aa4672aee1fe46231ee235",
       "version_major": 2,
       "version_minor": 0
      },
      "text/plain": [
       "Downloading (…)lve/main/config.json:   0%|          | 0.00/872 [00:00<?, ?B/s]"
      ]
     },
     "metadata": {},
     "output_type": "display_data"
    },
    {
     "name": "stderr",
     "output_type": "stream",
     "text": [
      "C:\\ProgramData\\Anaconda3\\envs\\39\\lib\\site-packages\\huggingface_hub\\file_download.py:133: UserWarning: `huggingface_hub` cache-system uses symlinks by default to efficiently store duplicated files but your machine does not support them in C:\\Users\\lotco\\.cache\\huggingface\\hub. Caching files will still work but in a degraded version that might require more space on your disk. This warning can be disabled by setting the `HF_HUB_DISABLE_SYMLINKS_WARNING` environment variable. For more details, see https://huggingface.co/docs/huggingface_hub/how-to-cache#limitations.\n",
      "To support symlinks on Windows, you either need to activate Developer Mode or to run Python as an administrator. In order to see activate developer mode, see this article: https://docs.microsoft.com/en-us/windows/apps/get-started/enable-your-device-for-development\n",
      "  warnings.warn(message)\n"
     ]
    },
    {
     "data": {
      "application/vnd.jupyter.widget-view+json": {
       "model_id": "bca00cafe22744bc8f7bdb9bfc0ae1ec",
       "version_major": 2,
       "version_minor": 0
      },
      "text/plain": [
       "Downloading pytorch_model.bin:   0%|          | 0.00/667M [00:00<?, ?B/s]"
      ]
     },
     "metadata": {},
     "output_type": "display_data"
    },
    {
     "data": {
      "application/vnd.jupyter.widget-view+json": {
       "model_id": "4bfa8d745ad044049d12a0b24ab7ecbe",
       "version_major": 2,
       "version_minor": 0
      },
      "text/plain": [
       "Downloading (…)okenizer_config.json:   0%|          | 0.00/790 [00:00<?, ?B/s]"
      ]
     },
     "metadata": {},
     "output_type": "display_data"
    },
    {
     "data": {
      "application/vnd.jupyter.widget-view+json": {
       "model_id": "9871e3b1e6cb42009da2616ac1258171",
       "version_major": 2,
       "version_minor": 0
      },
      "text/plain": [
       "Downloading (…)olve/main/vocab.json:   0%|          | 0.00/1.27M [00:00<?, ?B/s]"
      ]
     },
     "metadata": {},
     "output_type": "display_data"
    },
    {
     "data": {
      "application/vnd.jupyter.widget-view+json": {
       "model_id": "4ae1f33f566d441e9f52aa840bc00dac",
       "version_major": 2,
       "version_minor": 0
      },
      "text/plain": [
       "Downloading (…)olve/main/merges.txt:   0%|          | 0.00/925k [00:00<?, ?B/s]"
      ]
     },
     "metadata": {},
     "output_type": "display_data"
    },
    {
     "data": {
      "application/vnd.jupyter.widget-view+json": {
       "model_id": "4f222d39310045d28c0f28fad5461cb6",
       "version_major": 2,
       "version_minor": 0
      },
      "text/plain": [
       "Downloading (…)/main/tokenizer.json:   0%|          | 0.00/3.07M [00:00<?, ?B/s]"
      ]
     },
     "metadata": {},
     "output_type": "display_data"
    },
    {
     "data": {
      "application/vnd.jupyter.widget-view+json": {
       "model_id": "cff5690b0b8e40b6a5dad23d9921bb2e",
       "version_major": 2,
       "version_minor": 0
      },
      "text/plain": [
       "Downloading (…)cial_tokens_map.json:   0%|          | 0.00/96.0 [00:00<?, ?B/s]"
      ]
     },
     "metadata": {},
     "output_type": "display_data"
    }
   ],
   "source": [
    "from transformers import pipeline\n",
    "\n",
    "model_name = \"heegyu/kogpt-j-base\"\n",
    "pipe = pipeline('text-generation', model=model_name)\n",
    "\n"
   ]
  },
  {
   "cell_type": "code",
   "execution_count": 3,
   "id": "9247b145-d1af-48d7-aed5-26899700b204",
   "metadata": {},
   "outputs": [
    {
     "name": "stdout",
     "output_type": "stream",
     "text": [
      "[{'generated_text': '안녕하세요?\\n이민희\\n안녕하세요.\\n오늘은 이 친구 생일이 언제일까요?\\n아~ 오늘이에요. 오늘도 생일이네요. 예. 그래서 우리 저 이제 친구가 이렇게 선물을 사줘요라고 해갖고 선물을 하나 장만했는데요. 정말 어~ 저도 올해 이학년인데 초등학교 6학년에 이학년이었거든요. 근데 그 전에 생일이라서 제가 지금 고3인데요. 저는 고등학생이거든요. 이제 고2입니다. 제 생일이 또 얼마예요 라고 해서 이 친구들이 한 오십몇십만원 정도 용돈을 줬던 기억이 있는데 혹시 어떤 생일 같은 경우에 저희가 조금 전에 생일이라고 해서 뭐 선물나라고 하면서 그런 선물을 주는 거 있잖아요. 그게 어떻게'}]\n",
      "[{'generated_text': '오늘 정부 발표에 따르면, ltv는 은행 대출을 제외한 주택저당증권으로서 만기가 되면 원리금 상환 비율에 따라 원리금을 조기에 회수 가능한 구조로 설정된다.. 1일 기준 8월 말 현재 코픽스(cofix·자금조달비용지수)에서 연동하는 국내 주담대 잔액은 331조3000억원으로 대출 한도는 693조원이며 이중 65조2000억원(64.4%)은 신규취급액이다.. 그러나 일부 시중은행의 경우 자금조달 비용이 늘어나면서 대출이 증가함에 따라 기존과 같은 조건에서도 최대 3000만원까지 대출을 확대토록 요구하는 실정인데, 이렇게 하면 이자 부담을 더 줄일'}]\n",
      "[{'generated_text': '싸늘하다. 가슴에 비수가 날아와 꽂힌다. \\n\"나는 살아있다.\"\\n그의 얼굴에서 피가 뿜어져 나온다. 그는 죽은 뒤에도 이마를 짚지 못하고 있을 터인데, 그녀가 죽였더라면 어찌 되었을 것인지 모르겠다. 왜 그가 죽었는지를 알고 있느냐? 그는 죽은 게 아니라 살아 있는 것이다. 그의 얼굴이 피처럼 하얗게 변한다. 이 참상을 보고 내가 얼마나 고통스러웠는지 몰라!\\n내 기억 속에……. 그에게 있어 죽음은 너무나 고통스러운 것이지만 죽음에 이른다는 것은 거의 존재하지 않은 일이었으니 그런 일이 일어났을 리가 없지 않은가. 죽음이란 무엇이고 나는 무엇을 사랑한단 말인가? 그것은 나의 사랑을 위해서가 아니라 나를 위해서도 필요하였으니 그것을 위해'}]\n"
     ]
    }
   ],
   "source": [
    "print(pipe(\"안녕하세요\", repetition_penalty=1.2, do_sample=True, eos_token_id=1, early_stopping=True, max_new_tokens=128))\n",
    "print(pipe(\"오늘 정부 발표에 따르면, \", repetition_penalty=1.2, do_sample=True, eos_token_id=1, early_stopping=True, max_new_tokens=128))\n",
    "print(pipe(\"싸늘하다. 가슴에 비수가 날아와 꽂힌다. \", repetition_penalty=1.2, do_sample=True, eos_token_id=1, early_stopping=True, max_new_tokens=128, min_length=64))"
   ]
  }
 ],
 "metadata": {
  "kernelspec": {
   "display_name": "Python 3 (ipykernel)",
   "language": "python",
   "name": "python3"
  },
  "language_info": {
   "codemirror_mode": {
    "name": "ipython",
    "version": 3
   },
   "file_extension": ".py",
   "mimetype": "text/x-python",
   "name": "python",
   "nbconvert_exporter": "python",
   "pygments_lexer": "ipython3",
   "version": "3.9.17"
  }
 },
 "nbformat": 4,
 "nbformat_minor": 5
}
